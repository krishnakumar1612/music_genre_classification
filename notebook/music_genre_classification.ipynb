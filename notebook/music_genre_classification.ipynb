{
 "cells": [
  {
   "cell_type": "code",
   "execution_count": 1,
   "id": "9d7c10e1",
   "metadata": {},
   "outputs": [],
   "source": [
    "#Import libraries\n",
    "import librosa\n",
    "import numpy as np\n",
    "import pandas as pd\n",
    "import matplotlib.pyplot as plt\n",
    "\n",
    "from sklearn.model_selection import train_test_split\n",
    "from sklearn.metrics import accuracy_score, confusion_matrix\n",
    "from sklearn.discriminant_analysis import LinearDiscriminantAnalysis\n",
    "from sklearn.neighbors import KNeighborsClassifier\n",
    "from sklearn.ensemble import RandomForestClassifier\n",
    "from sklearn.naive_bayes import GaussianNB\n",
    "from sklearn.linear_model import LogisticRegression\n",
    "from sklearn.svm import SVC  \n",
    "from sklearn import tree"
   ]
  },
  {
   "cell_type": "code",
   "execution_count": 3,
   "id": "08f17160",
   "metadata": {},
   "outputs": [],
   "source": [
    "#run this cell 2 times as 1st time it gave runtime warning.\n",
    "from pyAudioAnalysis import MidTermFeatures as aF"
   ]
  },
  {
   "cell_type": "code",
   "execution_count": 4,
   "id": "5131aa68",
   "metadata": {},
   "outputs": [
    {
     "data": {
      "text/plain": [
       "['D:\\\\GitHub\\\\music_genre_classification\\\\music\\\\classical\\\\',\n",
       " 'D:\\\\GitHub\\\\music_genre_classification\\\\music\\\\metal\\\\']"
      ]
     },
     "execution_count": 4,
     "metadata": {},
     "output_type": "execute_result"
    }
   ],
   "source": [
    "#Load the data\n",
    "path = \"D:\\GitHub\\music_genre_classification\\music\"\n",
    "dirs = [path+\"\\\\classical\\\\\", path+\"\\\\metal\\\\\"] \n",
    "dirs"
   ]
  },
  {
   "cell_type": "code",
   "execution_count": 5,
   "id": "dc817272",
   "metadata": {},
   "outputs": [
    {
     "data": {
      "text/plain": [
       "['classical', 'metal']"
      ]
     },
     "execution_count": 5,
     "metadata": {},
     "output_type": "execute_result"
    }
   ],
   "source": [
    "#Define classes\n",
    "class_names = ['classical', 'metal'] \n",
    "class_names"
   ]
  },
  {
   "cell_type": "code",
   "execution_count": 6,
   "id": "93170898",
   "metadata": {},
   "outputs": [],
   "source": [
    "#initialize minimu window, minimum step, window size and step size\n",
    "m_win, m_step, s_win, s_step = 1, 1, 0.1, 0.05"
   ]
  },
  {
   "cell_type": "code",
   "execution_count": 7,
   "id": "c0786380",
   "metadata": {},
   "outputs": [
    {
     "name": "stdout",
     "output_type": "stream",
     "text": [
      "D:\\GitHub\\music_genre_classification\\music\\classical\\\n",
      "Analyzing file 1 of 10: D:\\GitHub\\music_genre_classification\\music\\classical\\data_music_classical_classical.00012.au.wav\n",
      "Analyzing file 2 of 10: D:\\GitHub\\music_genre_classification\\music\\classical\\data_music_classical_classical.00017.au.wav\n",
      "Analyzing file 3 of 10: D:\\GitHub\\music_genre_classification\\music\\classical\\data_music_classical_classical.00023.au.wav\n",
      "Analyzing file 4 of 10: D:\\GitHub\\music_genre_classification\\music\\classical\\data_music_classical_classical.00027.au.wav\n",
      "Analyzing file 5 of 10: D:\\GitHub\\music_genre_classification\\music\\classical\\data_music_classical_classical.00030.au.wav\n",
      "Analyzing file 6 of 10: D:\\GitHub\\music_genre_classification\\music\\classical\\data_music_classical_classical.00040.au.wav\n",
      "Analyzing file 7 of 10: D:\\GitHub\\music_genre_classification\\music\\classical\\data_music_classical_classical.00048.au.wav\n",
      "Analyzing file 8 of 10: D:\\GitHub\\music_genre_classification\\music\\classical\\data_music_classical_classical.00052.au.wav\n",
      "Analyzing file 9 of 10: D:\\GitHub\\music_genre_classification\\music\\classical\\data_music_classical_classical.00057.au.wav\n",
      "Analyzing file 10 of 10: D:\\GitHub\\music_genre_classification\\music\\classical\\data_music_classical_classical.00062.au.wav\n",
      "Feature extraction complexity ratio: 21.9 x realtime\n",
      "D:\\GitHub\\music_genre_classification\\music\\metal\\\n",
      "Analyzing file 1 of 10: D:\\GitHub\\music_genre_classification\\music\\metal\\data_music_metal_metal.00015.au.wav\n",
      "Analyzing file 2 of 10: D:\\GitHub\\music_genre_classification\\music\\metal\\data_music_metal_metal.00023.au.wav\n",
      "Analyzing file 3 of 10: D:\\GitHub\\music_genre_classification\\music\\metal\\data_music_metal_metal.00034.au.wav\n",
      "Analyzing file 4 of 10: D:\\GitHub\\music_genre_classification\\music\\metal\\data_music_metal_metal.00038.au.wav\n",
      "Analyzing file 5 of 10: D:\\GitHub\\music_genre_classification\\music\\metal\\data_music_metal_metal.00043.au.wav\n",
      "Analyzing file 6 of 10: D:\\GitHub\\music_genre_classification\\music\\metal\\data_music_metal_metal.00052.au.wav\n",
      "Analyzing file 7 of 10: D:\\GitHub\\music_genre_classification\\music\\metal\\data_music_metal_metal.00070.au.wav\n",
      "Analyzing file 8 of 10: D:\\GitHub\\music_genre_classification\\music\\metal\\data_music_metal_metal.00076.au.wav\n",
      "Analyzing file 9 of 10: D:\\GitHub\\music_genre_classification\\music\\metal\\data_music_metal_metal.00088.au.wav\n",
      "Analyzing file 10 of 10: D:\\GitHub\\music_genre_classification\\music\\metal\\data_music_metal_metal.00098.au.wav\n",
      "Feature extraction complexity ratio: 21.2 x realtime\n"
     ]
    }
   ],
   "source": [
    "# segment-level feature extraction:\n",
    "features = [] \n",
    "#Extract the features\n",
    "for d in dirs: # get feature matrix for each directory (class)\n",
    "    print(d)\n",
    "    f, _, fn = aF.directory_feature_extraction(d, m_win, m_step, \n",
    "                                                   s_win, s_step) \n",
    "    features.append(f)"
   ]
  },
  {
   "cell_type": "code",
   "execution_count": 8,
   "id": "0c28301b",
   "metadata": {},
   "outputs": [
    {
     "data": {
      "text/plain": [
       "2"
      ]
     },
     "execution_count": 8,
     "metadata": {},
     "output_type": "execute_result"
    }
   ],
   "source": [
    "len(features)"
   ]
  },
  {
   "cell_type": "code",
   "execution_count": 9,
   "id": "fc3324b2",
   "metadata": {},
   "outputs": [
    {
     "data": {
      "text/plain": [
       "(10, 138)"
      ]
     },
     "execution_count": 9,
     "metadata": {},
     "output_type": "execute_result"
    }
   ],
   "source": [
    "features[0].shape"
   ]
  },
  {
   "cell_type": "code",
   "execution_count": 10,
   "id": "bad718c8",
   "metadata": {},
   "outputs": [
    {
     "data": {
      "text/plain": [
       "array([[1.80389961e-01, 5.83426779e-02, 3.24215393e+00, ...,\n",
       "        8.16622670e-03, 2.00000000e+02, 9.37499989e-02],\n",
       "       [2.36084579e-01, 4.51324260e-02, 3.20337700e+00, ...,\n",
       "        5.92134326e-03, 1.71428571e+02, 1.87499998e-01],\n",
       "       [1.39812924e-01, 7.41176724e-02, 3.25051884e+00, ...,\n",
       "        5.08672374e-03, 4.00000000e+02, 1.36363635e-01],\n",
       "       ...,\n",
       "       [1.65239444e-01, 2.48579223e-02, 3.17368998e+00, ...,\n",
       "        6.63576808e-03, 2.40000000e+02, 1.37254901e-01],\n",
       "       [2.52816020e-01, 3.15424944e-02, 3.04960657e+00, ...,\n",
       "        2.04765510e-02, 1.50000000e+02, 2.22222220e-01],\n",
       "       [2.33021540e-01, 3.46355248e-02, 3.20578801e+00, ...,\n",
       "        9.23241609e-03, 2.00000000e+02, 1.39534882e-01]])"
      ]
     },
     "execution_count": 10,
     "metadata": {},
     "output_type": "execute_result"
    }
   ],
   "source": [
    "features[0]"
   ]
  },
  {
   "cell_type": "code",
   "execution_count": 11,
   "id": "a4f23e32",
   "metadata": {},
   "outputs": [
    {
     "data": {
      "text/plain": [
       "138"
      ]
     },
     "execution_count": 11,
     "metadata": {},
     "output_type": "execute_result"
    }
   ],
   "source": [
    "len(fn)"
   ]
  },
  {
   "cell_type": "code",
   "execution_count": 12,
   "id": "8ace8184",
   "metadata": {},
   "outputs": [
    {
     "data": {
      "text/plain": [
       "['zcr_mean',\n",
       " 'energy_mean',\n",
       " 'energy_entropy_mean',\n",
       " 'spectral_centroid_mean',\n",
       " 'spectral_spread_mean',\n",
       " 'spectral_entropy_mean',\n",
       " 'spectral_flux_mean',\n",
       " 'spectral_rolloff_mean',\n",
       " 'mfcc_1_mean',\n",
       " 'mfcc_2_mean',\n",
       " 'mfcc_3_mean',\n",
       " 'mfcc_4_mean',\n",
       " 'mfcc_5_mean',\n",
       " 'mfcc_6_mean',\n",
       " 'mfcc_7_mean',\n",
       " 'mfcc_8_mean',\n",
       " 'mfcc_9_mean',\n",
       " 'mfcc_10_mean',\n",
       " 'mfcc_11_mean',\n",
       " 'mfcc_12_mean',\n",
       " 'mfcc_13_mean',\n",
       " 'chroma_1_mean',\n",
       " 'chroma_2_mean',\n",
       " 'chroma_3_mean',\n",
       " 'chroma_4_mean',\n",
       " 'chroma_5_mean',\n",
       " 'chroma_6_mean',\n",
       " 'chroma_7_mean',\n",
       " 'chroma_8_mean',\n",
       " 'chroma_9_mean',\n",
       " 'chroma_10_mean',\n",
       " 'chroma_11_mean',\n",
       " 'chroma_12_mean',\n",
       " 'chroma_std_mean',\n",
       " 'delta zcr_mean',\n",
       " 'delta energy_mean',\n",
       " 'delta energy_entropy_mean',\n",
       " 'delta spectral_centroid_mean',\n",
       " 'delta spectral_spread_mean',\n",
       " 'delta spectral_entropy_mean',\n",
       " 'delta spectral_flux_mean',\n",
       " 'delta spectral_rolloff_mean',\n",
       " 'delta mfcc_1_mean',\n",
       " 'delta mfcc_2_mean',\n",
       " 'delta mfcc_3_mean',\n",
       " 'delta mfcc_4_mean',\n",
       " 'delta mfcc_5_mean',\n",
       " 'delta mfcc_6_mean',\n",
       " 'delta mfcc_7_mean',\n",
       " 'delta mfcc_8_mean',\n",
       " 'delta mfcc_9_mean',\n",
       " 'delta mfcc_10_mean',\n",
       " 'delta mfcc_11_mean',\n",
       " 'delta mfcc_12_mean',\n",
       " 'delta mfcc_13_mean',\n",
       " 'delta chroma_1_mean',\n",
       " 'delta chroma_2_mean',\n",
       " 'delta chroma_3_mean',\n",
       " 'delta chroma_4_mean',\n",
       " 'delta chroma_5_mean',\n",
       " 'delta chroma_6_mean',\n",
       " 'delta chroma_7_mean',\n",
       " 'delta chroma_8_mean',\n",
       " 'delta chroma_9_mean',\n",
       " 'delta chroma_10_mean',\n",
       " 'delta chroma_11_mean',\n",
       " 'delta chroma_12_mean',\n",
       " 'delta chroma_std_mean',\n",
       " 'zcr_std',\n",
       " 'energy_std',\n",
       " 'energy_entropy_std',\n",
       " 'spectral_centroid_std',\n",
       " 'spectral_spread_std',\n",
       " 'spectral_entropy_std',\n",
       " 'spectral_flux_std',\n",
       " 'spectral_rolloff_std',\n",
       " 'mfcc_1_std',\n",
       " 'mfcc_2_std',\n",
       " 'mfcc_3_std',\n",
       " 'mfcc_4_std',\n",
       " 'mfcc_5_std',\n",
       " 'mfcc_6_std',\n",
       " 'mfcc_7_std',\n",
       " 'mfcc_8_std',\n",
       " 'mfcc_9_std',\n",
       " 'mfcc_10_std',\n",
       " 'mfcc_11_std',\n",
       " 'mfcc_12_std',\n",
       " 'mfcc_13_std',\n",
       " 'chroma_1_std',\n",
       " 'chroma_2_std',\n",
       " 'chroma_3_std',\n",
       " 'chroma_4_std',\n",
       " 'chroma_5_std',\n",
       " 'chroma_6_std',\n",
       " 'chroma_7_std',\n",
       " 'chroma_8_std',\n",
       " 'chroma_9_std',\n",
       " 'chroma_10_std',\n",
       " 'chroma_11_std',\n",
       " 'chroma_12_std',\n",
       " 'chroma_std_std',\n",
       " 'delta zcr_std',\n",
       " 'delta energy_std',\n",
       " 'delta energy_entropy_std',\n",
       " 'delta spectral_centroid_std',\n",
       " 'delta spectral_spread_std',\n",
       " 'delta spectral_entropy_std',\n",
       " 'delta spectral_flux_std',\n",
       " 'delta spectral_rolloff_std',\n",
       " 'delta mfcc_1_std',\n",
       " 'delta mfcc_2_std',\n",
       " 'delta mfcc_3_std',\n",
       " 'delta mfcc_4_std',\n",
       " 'delta mfcc_5_std',\n",
       " 'delta mfcc_6_std',\n",
       " 'delta mfcc_7_std',\n",
       " 'delta mfcc_8_std',\n",
       " 'delta mfcc_9_std',\n",
       " 'delta mfcc_10_std',\n",
       " 'delta mfcc_11_std',\n",
       " 'delta mfcc_12_std',\n",
       " 'delta mfcc_13_std',\n",
       " 'delta chroma_1_std',\n",
       " 'delta chroma_2_std',\n",
       " 'delta chroma_3_std',\n",
       " 'delta chroma_4_std',\n",
       " 'delta chroma_5_std',\n",
       " 'delta chroma_6_std',\n",
       " 'delta chroma_7_std',\n",
       " 'delta chroma_8_std',\n",
       " 'delta chroma_9_std',\n",
       " 'delta chroma_10_std',\n",
       " 'delta chroma_11_std',\n",
       " 'delta chroma_12_std',\n",
       " 'delta chroma_std_std',\n",
       " 'bpm',\n",
       " 'ratio']"
      ]
     },
     "execution_count": 12,
     "metadata": {},
     "output_type": "execute_result"
    }
   ],
   "source": [
    "fn"
   ]
  },
  {
   "cell_type": "code",
   "execution_count": 13,
   "id": "2ee7f949",
   "metadata": {},
   "outputs": [
    {
     "data": {
      "text/plain": [
       "(20, 138)"
      ]
     },
     "execution_count": 13,
     "metadata": {},
     "output_type": "execute_result"
    }
   ],
   "source": [
    "X = np.concatenate((features[0], features[1]), axis = 0)\n",
    "X.shape"
   ]
  },
  {
   "cell_type": "code",
   "execution_count": 14,
   "id": "fa4a303b",
   "metadata": {},
   "outputs": [
    {
     "data": {
      "text/html": [
       "<div>\n",
       "<style scoped>\n",
       "    .dataframe tbody tr th:only-of-type {\n",
       "        vertical-align: middle;\n",
       "    }\n",
       "\n",
       "    .dataframe tbody tr th {\n",
       "        vertical-align: top;\n",
       "    }\n",
       "\n",
       "    .dataframe thead th {\n",
       "        text-align: right;\n",
       "    }\n",
       "</style>\n",
       "<table border=\"1\" class=\"dataframe\">\n",
       "  <thead>\n",
       "    <tr style=\"text-align: right;\">\n",
       "      <th></th>\n",
       "      <th>zcr_mean</th>\n",
       "      <th>energy_mean</th>\n",
       "      <th>energy_entropy_mean</th>\n",
       "      <th>spectral_centroid_mean</th>\n",
       "      <th>spectral_spread_mean</th>\n",
       "      <th>spectral_entropy_mean</th>\n",
       "      <th>spectral_flux_mean</th>\n",
       "      <th>spectral_rolloff_mean</th>\n",
       "      <th>mfcc_1_mean</th>\n",
       "      <th>mfcc_2_mean</th>\n",
       "      <th>...</th>\n",
       "      <th>delta chroma_6_std</th>\n",
       "      <th>delta chroma_7_std</th>\n",
       "      <th>delta chroma_8_std</th>\n",
       "      <th>delta chroma_9_std</th>\n",
       "      <th>delta chroma_10_std</th>\n",
       "      <th>delta chroma_11_std</th>\n",
       "      <th>delta chroma_12_std</th>\n",
       "      <th>delta chroma_std_std</th>\n",
       "      <th>bpm</th>\n",
       "      <th>ratio</th>\n",
       "    </tr>\n",
       "  </thead>\n",
       "  <tbody>\n",
       "    <tr>\n",
       "      <th>0</th>\n",
       "      <td>0.180390</td>\n",
       "      <td>0.058343</td>\n",
       "      <td>3.242154</td>\n",
       "      <td>0.266911</td>\n",
       "      <td>0.222966</td>\n",
       "      <td>1.513042</td>\n",
       "      <td>0.003619</td>\n",
       "      <td>0.285987</td>\n",
       "      <td>-22.230259</td>\n",
       "      <td>1.794978</td>\n",
       "      <td>...</td>\n",
       "      <td>0.015081</td>\n",
       "      <td>0.006559</td>\n",
       "      <td>0.001366</td>\n",
       "      <td>0.003712</td>\n",
       "      <td>0.002799</td>\n",
       "      <td>0.011527</td>\n",
       "      <td>0.001026</td>\n",
       "      <td>0.008166</td>\n",
       "      <td>200.000000</td>\n",
       "      <td>0.093750</td>\n",
       "    </tr>\n",
       "    <tr>\n",
       "      <th>1</th>\n",
       "      <td>0.236085</td>\n",
       "      <td>0.045132</td>\n",
       "      <td>3.203377</td>\n",
       "      <td>0.296077</td>\n",
       "      <td>0.212635</td>\n",
       "      <td>2.079468</td>\n",
       "      <td>0.003288</td>\n",
       "      <td>0.342171</td>\n",
       "      <td>-21.738364</td>\n",
       "      <td>1.269739</td>\n",
       "      <td>...</td>\n",
       "      <td>0.004553</td>\n",
       "      <td>0.007423</td>\n",
       "      <td>0.024603</td>\n",
       "      <td>0.009285</td>\n",
       "      <td>0.006696</td>\n",
       "      <td>0.001399</td>\n",
       "      <td>0.001899</td>\n",
       "      <td>0.005921</td>\n",
       "      <td>171.428571</td>\n",
       "      <td>0.187500</td>\n",
       "    </tr>\n",
       "    <tr>\n",
       "      <th>2</th>\n",
       "      <td>0.139813</td>\n",
       "      <td>0.074118</td>\n",
       "      <td>3.250519</td>\n",
       "      <td>0.213665</td>\n",
       "      <td>0.217639</td>\n",
       "      <td>1.369740</td>\n",
       "      <td>0.002566</td>\n",
       "      <td>0.224539</td>\n",
       "      <td>-21.637362</td>\n",
       "      <td>2.647678</td>\n",
       "      <td>...</td>\n",
       "      <td>0.001631</td>\n",
       "      <td>0.019909</td>\n",
       "      <td>0.003435</td>\n",
       "      <td>0.007699</td>\n",
       "      <td>0.004259</td>\n",
       "      <td>0.003550</td>\n",
       "      <td>0.012377</td>\n",
       "      <td>0.005087</td>\n",
       "      <td>400.000000</td>\n",
       "      <td>0.136364</td>\n",
       "    </tr>\n",
       "    <tr>\n",
       "      <th>3</th>\n",
       "      <td>0.173539</td>\n",
       "      <td>0.055513</td>\n",
       "      <td>3.282597</td>\n",
       "      <td>0.203469</td>\n",
       "      <td>0.195141</td>\n",
       "      <td>1.499466</td>\n",
       "      <td>0.002425</td>\n",
       "      <td>0.329211</td>\n",
       "      <td>-22.449529</td>\n",
       "      <td>2.809373</td>\n",
       "      <td>...</td>\n",
       "      <td>0.000603</td>\n",
       "      <td>0.011263</td>\n",
       "      <td>0.001926</td>\n",
       "      <td>0.001233</td>\n",
       "      <td>0.001260</td>\n",
       "      <td>0.016588</td>\n",
       "      <td>0.003688</td>\n",
       "      <td>0.005119</td>\n",
       "      <td>200.000000</td>\n",
       "      <td>0.113636</td>\n",
       "    </tr>\n",
       "    <tr>\n",
       "      <th>4</th>\n",
       "      <td>0.160694</td>\n",
       "      <td>0.037572</td>\n",
       "      <td>3.260459</td>\n",
       "      <td>0.282089</td>\n",
       "      <td>0.239487</td>\n",
       "      <td>1.628624</td>\n",
       "      <td>0.004600</td>\n",
       "      <td>0.318092</td>\n",
       "      <td>-22.828334</td>\n",
       "      <td>1.662391</td>\n",
       "      <td>...</td>\n",
       "      <td>0.004972</td>\n",
       "      <td>0.009842</td>\n",
       "      <td>0.004936</td>\n",
       "      <td>0.010952</td>\n",
       "      <td>0.000636</td>\n",
       "      <td>0.006089</td>\n",
       "      <td>0.004353</td>\n",
       "      <td>0.019988</td>\n",
       "      <td>300.000000</td>\n",
       "      <td>0.088235</td>\n",
       "    </tr>\n",
       "  </tbody>\n",
       "</table>\n",
       "<p>5 rows × 138 columns</p>\n",
       "</div>"
      ],
      "text/plain": [
       "   zcr_mean  energy_mean  energy_entropy_mean  spectral_centroid_mean   \n",
       "0  0.180390     0.058343             3.242154                0.266911  \\\n",
       "1  0.236085     0.045132             3.203377                0.296077   \n",
       "2  0.139813     0.074118             3.250519                0.213665   \n",
       "3  0.173539     0.055513             3.282597                0.203469   \n",
       "4  0.160694     0.037572             3.260459                0.282089   \n",
       "\n",
       "   spectral_spread_mean  spectral_entropy_mean  spectral_flux_mean   \n",
       "0              0.222966               1.513042            0.003619  \\\n",
       "1              0.212635               2.079468            0.003288   \n",
       "2              0.217639               1.369740            0.002566   \n",
       "3              0.195141               1.499466            0.002425   \n",
       "4              0.239487               1.628624            0.004600   \n",
       "\n",
       "   spectral_rolloff_mean  mfcc_1_mean  mfcc_2_mean  ...  delta chroma_6_std   \n",
       "0               0.285987   -22.230259     1.794978  ...            0.015081  \\\n",
       "1               0.342171   -21.738364     1.269739  ...            0.004553   \n",
       "2               0.224539   -21.637362     2.647678  ...            0.001631   \n",
       "3               0.329211   -22.449529     2.809373  ...            0.000603   \n",
       "4               0.318092   -22.828334     1.662391  ...            0.004972   \n",
       "\n",
       "   delta chroma_7_std  delta chroma_8_std  delta chroma_9_std   \n",
       "0            0.006559            0.001366            0.003712  \\\n",
       "1            0.007423            0.024603            0.009285   \n",
       "2            0.019909            0.003435            0.007699   \n",
       "3            0.011263            0.001926            0.001233   \n",
       "4            0.009842            0.004936            0.010952   \n",
       "\n",
       "   delta chroma_10_std  delta chroma_11_std  delta chroma_12_std   \n",
       "0             0.002799             0.011527             0.001026  \\\n",
       "1             0.006696             0.001399             0.001899   \n",
       "2             0.004259             0.003550             0.012377   \n",
       "3             0.001260             0.016588             0.003688   \n",
       "4             0.000636             0.006089             0.004353   \n",
       "\n",
       "   delta chroma_std_std         bpm     ratio  \n",
       "0              0.008166  200.000000  0.093750  \n",
       "1              0.005921  171.428571  0.187500  \n",
       "2              0.005087  400.000000  0.136364  \n",
       "3              0.005119  200.000000  0.113636  \n",
       "4              0.019988  300.000000  0.088235  \n",
       "\n",
       "[5 rows x 138 columns]"
      ]
     },
     "execution_count": 14,
     "metadata": {},
     "output_type": "execute_result"
    }
   ],
   "source": [
    "df = pd.DataFrame(data = X, columns = fn)\n",
    "df.head()"
   ]
  },
  {
   "cell_type": "code",
   "execution_count": 15,
   "id": "f2956024",
   "metadata": {},
   "outputs": [
    {
     "data": {
      "text/plain": [
       "array([0, 0, 0, 0, 0, 0, 0, 0, 0, 0, 1, 1, 1, 1, 1, 1, 1, 1, 1, 1])"
      ]
     },
     "execution_count": 15,
     "metadata": {},
     "output_type": "execute_result"
    }
   ],
   "source": [
    "# Create Label values for the dataset\n",
    "# ['classical', 'metal'] = > 0,1\n",
    "z = np.zeros([10, 1], dtype = int)\n",
    "o = np.ones([10, 1], dtype = int)\n",
    "\n",
    "Y = np.concatenate((z,  o), axis = 0)\n",
    "Y = Y.ravel()\n",
    "Y"
   ]
  },
  {
   "cell_type": "code",
   "execution_count": 16,
   "id": "beb4b7fd",
   "metadata": {},
   "outputs": [],
   "source": [
    "# Preprocess the dataset, Scale it with standard scaler\n",
    "from sklearn.preprocessing import StandardScaler\n",
    "sc = StandardScaler()\n",
    "X = sc.fit_transform(X)"
   ]
  },
  {
   "cell_type": "markdown",
   "id": "fc08a095",
   "metadata": {},
   "source": [
    "# Part 1   \n",
    "### Featre engneering with LDA"
   ]
  },
  {
   "cell_type": "code",
   "execution_count": 17,
   "id": "e07c64b2",
   "metadata": {},
   "outputs": [
    {
     "data": {
      "text/plain": [
       "<matplotlib.collections.PathCollection at 0x287eee70be0>"
      ]
     },
     "execution_count": 17,
     "metadata": {},
     "output_type": "execute_result"
    },
    {
     "data": {
      "image/png": "[encoded data removed]",
      "text/plain": [
       "<Figure size 640x480 with 1 Axes>"
      ]
     },
     "metadata": {},
     "output_type": "display_data"
    }
   ],
   "source": [
    "# apply Linear Discriminant Analysis to get 1 most important fetaure.\n",
    "lda = LinearDiscriminantAnalysis(n_components=1)\n",
    "x = lda.fit_transform(X, Y)\n",
    "\n",
    "\n",
    "# plot the scatterplot\n",
    "plt.scatter(\n",
    "    x[:,0],np.arange(len(x)),c=Y,cmap='rainbow',\n",
    "  alpha=0.7,edgecolors='b'\n",
    ")"
   ]
  },
  {
   "cell_type": "code",
   "execution_count": 18,
   "id": "23e9ab78",
   "metadata": {},
   "outputs": [],
   "source": [
    "# from above lot it looks like data is linearly saperable."
   ]
  },
  {
   "cell_type": "code",
   "execution_count": 19,
   "id": "f785e60a",
   "metadata": {},
   "outputs": [],
   "source": [
    "X_train, X_test, y_train, y_test = train_test_split(x, Y, test_size=0.3, random_state=11)"
   ]
  },
  {
   "cell_type": "code",
   "execution_count": 20,
   "id": "4d5e8465",
   "metadata": {},
   "outputs": [
    {
     "name": "stdout",
     "output_type": "stream",
     "text": [
      "Accuracy : 0.95\n",
      "[[10  0]\n",
      " [ 1  9]]\n"
     ]
    }
   ],
   "source": [
    "# classify using Logistic classifier\n",
    "classifier = LogisticRegression()\n",
    "classifier.fit(X_train, y_train)\n",
    "y_pred = classifier.predict(x)\n",
    " \n",
    "# print the accuracy and confusion matrix\n",
    "print('Accuracy : ' + str(accuracy_score(Y, y_pred)))\n",
    "conf_m = confusion_matrix(Y, y_pred)\n",
    "print(conf_m)\n"
   ]
  },
  {
   "cell_type": "code",
   "execution_count": 21,
   "id": "f0f0e2a4",
   "metadata": {},
   "outputs": [
    {
     "name": "stdout",
     "output_type": "stream",
     "text": [
      "Accuracy : 0.95\n",
      "[[10  0]\n",
      " [ 1  9]]\n"
     ]
    }
   ],
   "source": [
    "# classify using SVM classifier\n",
    "classifier = SVC(kernel='sigmoid') \n",
    "classifier.fit(X_train, y_train)\n",
    "y_pred = classifier.predict(x)\n",
    " \n",
    "# print the accuracy and confusion matrix\n",
    "print('Accuracy : ' + str(accuracy_score(Y, y_pred)))\n",
    "conf_m = confusion_matrix(Y, y_pred)\n",
    "print(conf_m)\n"
   ]
  },
  {
   "cell_type": "code",
   "execution_count": 22,
   "id": "53e89be5",
   "metadata": {},
   "outputs": [
    {
     "data": {
      "image/png": "[encoded data removed]",
      "text/plain": [
       "<Figure size 640x480 with 1 Axes>"
      ]
     },
     "metadata": {},
     "output_type": "display_data"
    }
   ],
   "source": [
    "# Using KNN classifier\n",
    "neighbors = np.arange(1, 11)\n",
    "train_accuracy = np.empty(len(neighbors))\n",
    "test_accuracy = np.empty(len(neighbors))\n",
    "  \n",
    "# Loop over K values\n",
    "for i, k in enumerate(neighbors):\n",
    "    knn = KNeighborsClassifier(n_neighbors=k)\n",
    "    knn.fit(X_train, y_train)\n",
    "      \n",
    "    # Compute training and test data accuracy\n",
    "    train_accuracy[i] = knn.score(X_train, y_train)\n",
    "    test_accuracy[i] = knn.score(X_test, y_test)\n",
    "  \n",
    "# Generate plot\n",
    "plt.plot(neighbors, test_accuracy, label = 'Testing dataset Accuracy')\n",
    "plt.plot(neighbors, train_accuracy, label = 'Training dataset Accuracy')\n",
    "  \n",
    "plt.legend()\n",
    "plt.xlabel('n_neighbors')\n",
    "plt.ylabel('Accuracy')\n",
    "plt.show()"
   ]
  },
  {
   "cell_type": "code",
   "execution_count": 23,
   "id": "b0bebabf",
   "metadata": {},
   "outputs": [
    {
     "name": "stdout",
     "output_type": "stream",
     "text": [
      "Accuracy : 0.9\n",
      "[[9 1]\n",
      " [1 9]]\n"
     ]
    }
   ],
   "source": [
    "# classify using KNN classifier\n",
    "classifier = KNeighborsClassifier(n_neighbors=8)\n",
    "classifier.fit(X_train, y_train)\n",
    "y_pred = classifier.predict(x)\n",
    " \n",
    "# print the accuracy and confusion matrix\n",
    "print('Accuracy : ' + str(accuracy_score(Y, y_pred)))\n",
    "conf_m = confusion_matrix(Y, y_pred)\n",
    "print(conf_m)"
   ]
  },
  {
   "cell_type": "code",
   "execution_count": 24,
   "id": "87013866",
   "metadata": {},
   "outputs": [
    {
     "name": "stdout",
     "output_type": "stream",
     "text": [
      "Accuracy : 0.9\n",
      "[[10  0]\n",
      " [ 2  8]]\n"
     ]
    }
   ],
   "source": [
    "# classify using random forest classifier\n",
    "classifier = RandomForestClassifier(max_depth=3, random_state=0)\n",
    "classifier.fit(X_train, y_train)\n",
    "y_pred = classifier.predict(x)\n",
    " \n",
    "# print the accuracy and confusion matrix\n",
    "print('Accuracy : ' + str(accuracy_score(Y, y_pred)))\n",
    "conf_m = confusion_matrix(Y, y_pred)\n",
    "print(conf_m)\n"
   ]
  },
  {
   "cell_type": "code",
   "execution_count": 25,
   "id": "c47bff60",
   "metadata": {},
   "outputs": [
    {
     "name": "stdout",
     "output_type": "stream",
     "text": [
      "Accuracy : 0.9\n",
      "[[10  0]\n",
      " [ 2  8]]\n"
     ]
    }
   ],
   "source": [
    "# classify using naive Bayesian classifier\n",
    "classifier = GaussianNB()\n",
    "classifier.fit(X_train, y_train)\n",
    "y_pred = classifier.predict(x)\n",
    " \n",
    "# print the accuracy and confusion matrix\n",
    "print('Accuracy : ' + str(accuracy_score(Y, y_pred)))\n",
    "conf_m = confusion_matrix(Y, y_pred)\n",
    "print(conf_m)\n"
   ]
  },
  {
   "cell_type": "code",
   "execution_count": 26,
   "id": "85461f47",
   "metadata": {},
   "outputs": [
    {
     "name": "stdout",
     "output_type": "stream",
     "text": [
      "Accuracy : 0.9\n",
      "[[10  0]\n",
      " [ 2  8]]\n"
     ]
    }
   ],
   "source": [
    "# classify using Decision tree classifier\n",
    "classifier = tree.DecisionTreeClassifier()\n",
    "classifier.fit(X_train, y_train)\n",
    "y_pred = classifier.predict(x)\n",
    " \n",
    "# print the accuracy and confusion matrix\n",
    "print('Accuracy : ' + str(accuracy_score(Y, y_pred)))\n",
    "conf_m = confusion_matrix(Y, y_pred)\n",
    "print(conf_m)"
   ]
  },
  {
   "cell_type": "code",
   "execution_count": 27,
   "id": "7182bea5",
   "metadata": {},
   "outputs": [
    {
     "name": "stdout",
     "output_type": "stream",
     "text": [
      "Accuracy : 0.9\n",
      "[[10  0]\n",
      " [ 2  8]]\n"
     ]
    }
   ],
   "source": [
    "# classify using SVM classifier\n",
    "classifier = SVC(kernel='linear') \n",
    "classifier.fit(X_train, y_train)\n",
    "y_pred = classifier.predict(x)\n",
    " \n",
    "# print the accuracy and confusion matrix\n",
    "print('Accuracy : ' + str(accuracy_score(Y, y_pred)))\n",
    "conf_m = confusion_matrix(Y, y_pred)\n",
    "print(conf_m)\n"
   ]
  },
  {
   "cell_type": "code",
   "execution_count": 28,
   "id": "422684df",
   "metadata": {},
   "outputs": [
    {
     "name": "stdout",
     "output_type": "stream",
     "text": [
      "Accuracy : 0.9\n",
      "[[10  0]\n",
      " [ 2  8]]\n"
     ]
    }
   ],
   "source": [
    "# classify using SVM classifier\n",
    "classifier = SVC(kernel='rbf') \n",
    "classifier.fit(X_train, y_train)\n",
    "y_pred = classifier.predict(x)\n",
    " \n",
    "# print the accuracy and confusion matrix\n",
    "print('Accuracy : ' + str(accuracy_score(Y, y_pred)))\n",
    "conf_m = confusion_matrix(Y, y_pred)\n",
    "print(conf_m)\n"
   ]
  },
  {
   "cell_type": "code",
   "execution_count": 29,
   "id": "257169fc",
   "metadata": {},
   "outputs": [
    {
     "name": "stdout",
     "output_type": "stream",
     "text": [
      "Accuracy : 0.75\n",
      "[[6 4]\n",
      " [1 9]]\n"
     ]
    }
   ],
   "source": [
    "# classify using SVM classifier\n",
    "classifier = SVC(kernel='poly') \n",
    "classifier.fit(X_train, y_train)\n",
    "y_pred = classifier.predict(x)\n",
    " \n",
    "# print the accuracy and confusion matrix\n",
    "print('Accuracy : ' + str(accuracy_score(Y, y_pred)))\n",
    "conf_m = confusion_matrix(Y, y_pred)\n",
    "print(conf_m)\n"
   ]
  },
  {
   "cell_type": "code",
   "execution_count": 30,
   "id": "57cef3bb",
   "metadata": {},
   "outputs": [
    {
     "data": {
      "text/html": [
       "<div>\n",
       "<style scoped>\n",
       "    .dataframe tbody tr th:only-of-type {\n",
       "        vertical-align: middle;\n",
       "    }\n",
       "\n",
       "    .dataframe tbody tr th {\n",
       "        vertical-align: top;\n",
       "    }\n",
       "\n",
       "    .dataframe thead th {\n",
       "        text-align: right;\n",
       "    }\n",
       "</style>\n",
       "<table border=\"1\" class=\"dataframe\">\n",
       "  <thead>\n",
       "    <tr style=\"text-align: right;\">\n",
       "      <th></th>\n",
       "      <th>algorithm</th>\n",
       "      <th>accuracy</th>\n",
       "    </tr>\n",
       "  </thead>\n",
       "  <tbody>\n",
       "    <tr>\n",
       "      <th>0</th>\n",
       "      <td>LogisticRegression</td>\n",
       "      <td>0.95</td>\n",
       "    </tr>\n",
       "    <tr>\n",
       "      <th>1</th>\n",
       "      <td>SVC sigmoid</td>\n",
       "      <td>0.95</td>\n",
       "    </tr>\n",
       "    <tr>\n",
       "      <th>2</th>\n",
       "      <td>KNeighborsClassifier 8</td>\n",
       "      <td>0.90</td>\n",
       "    </tr>\n",
       "    <tr>\n",
       "      <th>3</th>\n",
       "      <td>RandomForestClassifier</td>\n",
       "      <td>0.90</td>\n",
       "    </tr>\n",
       "    <tr>\n",
       "      <th>4</th>\n",
       "      <td>DecisionTreeClassifier</td>\n",
       "      <td>0.90</td>\n",
       "    </tr>\n",
       "    <tr>\n",
       "      <th>5</th>\n",
       "      <td>GaussianNB</td>\n",
       "      <td>0.90</td>\n",
       "    </tr>\n",
       "    <tr>\n",
       "      <th>6</th>\n",
       "      <td>SVC linear</td>\n",
       "      <td>0.90</td>\n",
       "    </tr>\n",
       "    <tr>\n",
       "      <th>7</th>\n",
       "      <td>SVC rbf</td>\n",
       "      <td>0.90</td>\n",
       "    </tr>\n",
       "    <tr>\n",
       "      <th>8</th>\n",
       "      <td>SVC poly</td>\n",
       "      <td>0.75</td>\n",
       "    </tr>\n",
       "  </tbody>\n",
       "</table>\n",
       "</div>"
      ],
      "text/plain": [
       "                algorithm  accuracy\n",
       "0      LogisticRegression      0.95\n",
       "1             SVC sigmoid      0.95\n",
       "2  KNeighborsClassifier 8      0.90\n",
       "3  RandomForestClassifier      0.90\n",
       "4  DecisionTreeClassifier      0.90\n",
       "5              GaussianNB      0.90\n",
       "6              SVC linear      0.90\n",
       "7                 SVC rbf      0.90\n",
       "8                SVC poly      0.75"
      ]
     },
     "execution_count": 30,
     "metadata": {},
     "output_type": "execute_result"
    }
   ],
   "source": [
    "data = {\n",
    "    'LogisticRegression' : 0.95,\n",
    "    'SVC sigmoid' : 0.95,\n",
    "    'KNeighborsClassifier 8' : 0.9,\n",
    "    'RandomForestClassifier' : 0.9,\n",
    "    'DecisionTreeClassifier' : 0.9,\n",
    "    'GaussianNB' : 0.9,\n",
    "    'SVC linear' : 0.9,\n",
    "    'SVC rbf' : 0.9,\n",
    "    'SVC poly' : 0.75\n",
    "}\n",
    "classification = pd.DataFrame(data.items(), columns = ['algorithm', 'accuracy'])\n",
    "classification"
   ]
  },
  {
   "cell_type": "markdown",
   "id": "92e58fe4",
   "metadata": {},
   "source": [
    "# Part 2\n",
    "### Featre selection with domain knowladge"
   ]
  },
  {
   "cell_type": "code",
   "execution_count": 31,
   "id": "7cd135ce",
   "metadata": {},
   "outputs": [],
   "source": [
    "dfs = df [['spectral_centroid_mean', 'energy_entropy_mean']]"
   ]
  },
  {
   "cell_type": "code",
   "execution_count": 32,
   "id": "57071300",
   "metadata": {},
   "outputs": [
    {
     "data": {
      "text/html": [
       "<div>\n",
       "<style scoped>\n",
       "    .dataframe tbody tr th:only-of-type {\n",
       "        vertical-align: middle;\n",
       "    }\n",
       "\n",
       "    .dataframe tbody tr th {\n",
       "        vertical-align: top;\n",
       "    }\n",
       "\n",
       "    .dataframe thead th {\n",
       "        text-align: right;\n",
       "    }\n",
       "</style>\n",
       "<table border=\"1\" class=\"dataframe\">\n",
       "  <thead>\n",
       "    <tr style=\"text-align: right;\">\n",
       "      <th></th>\n",
       "      <th>spectral_centroid_mean</th>\n",
       "      <th>energy_entropy_mean</th>\n",
       "    </tr>\n",
       "  </thead>\n",
       "  <tbody>\n",
       "    <tr>\n",
       "      <th>0</th>\n",
       "      <td>0.266911</td>\n",
       "      <td>3.242154</td>\n",
       "    </tr>\n",
       "    <tr>\n",
       "      <th>1</th>\n",
       "      <td>0.296077</td>\n",
       "      <td>3.203377</td>\n",
       "    </tr>\n",
       "    <tr>\n",
       "      <th>2</th>\n",
       "      <td>0.213665</td>\n",
       "      <td>3.250519</td>\n",
       "    </tr>\n",
       "    <tr>\n",
       "      <th>3</th>\n",
       "      <td>0.203469</td>\n",
       "      <td>3.282597</td>\n",
       "    </tr>\n",
       "    <tr>\n",
       "      <th>4</th>\n",
       "      <td>0.282089</td>\n",
       "      <td>3.260459</td>\n",
       "    </tr>\n",
       "  </tbody>\n",
       "</table>\n",
       "</div>"
      ],
      "text/plain": [
       "   spectral_centroid_mean  energy_entropy_mean\n",
       "0                0.266911             3.242154\n",
       "1                0.296077             3.203377\n",
       "2                0.213665             3.250519\n",
       "3                0.203469             3.282597\n",
       "4                0.282089             3.260459"
      ]
     },
     "execution_count": 32,
     "metadata": {},
     "output_type": "execute_result"
    }
   ],
   "source": [
    "dfs.head()"
   ]
  },
  {
   "cell_type": "code",
   "execution_count": 33,
   "id": "48b27076",
   "metadata": {},
   "outputs": [],
   "source": [
    "scs = StandardScaler()\n",
    "X = sc.fit_transform(dfs.values)"
   ]
  },
  {
   "cell_type": "code",
   "execution_count": 34,
   "id": "2e00524a",
   "metadata": {},
   "outputs": [
    {
     "data": {
      "text/plain": [
       "(20, 20)"
      ]
     },
     "execution_count": 34,
     "metadata": {},
     "output_type": "execute_result"
    }
   ],
   "source": [
    "len(X), len(Y)"
   ]
  },
  {
   "cell_type": "code",
   "execution_count": 35,
   "id": "24acf17c",
   "metadata": {},
   "outputs": [
    {
     "data": {
      "text/plain": [
       "<matplotlib.collections.PathCollection at 0x287fd8ac400>"
      ]
     },
     "execution_count": 35,
     "metadata": {},
     "output_type": "execute_result"
    },
    {
     "data": {
      "image/png": "[encoded data removed]",
      "text/plain": [
       "<Figure size 640x480 with 1 Axes>"
      ]
     },
     "metadata": {},
     "output_type": "display_data"
    }
   ],
   "source": [
    "# plot the scatterplot\n",
    "plt.scatter(\n",
    "    X[:,0],X[:,1],c=Y,cmap='rainbow',\n",
    "  alpha=0.7,edgecolors='b'\n",
    ")"
   ]
  },
  {
   "cell_type": "code",
   "execution_count": 36,
   "id": "5c0f2495",
   "metadata": {},
   "outputs": [],
   "source": [
    "# from above plot data does not have a clean saperation"
   ]
  },
  {
   "cell_type": "code",
   "execution_count": 37,
   "id": "7db3c3bd",
   "metadata": {},
   "outputs": [],
   "source": [
    "# split in train and test\n",
    "X_train, X_test, y_train, y_test = train_test_split(X, Y, test_size=0.3, random_state=11)"
   ]
  },
  {
   "cell_type": "code",
   "execution_count": 38,
   "id": "451e2ae1",
   "metadata": {},
   "outputs": [
    {
     "data": {
      "image/png": "[encoded data removed]",
      "text/plain": [
       "<Figure size 640x480 with 1 Axes>"
      ]
     },
     "metadata": {},
     "output_type": "display_data"
    }
   ],
   "source": [
    "# Using KNN classifier\n",
    "neighbors = np.arange(1, 9)\n",
    "train_accuracy = np.empty(len(neighbors))\n",
    "test_accuracy = np.empty(len(neighbors))\n",
    "  \n",
    "# Loop over K values\n",
    "for i, k in enumerate(neighbors):\n",
    "    knn = KNeighborsClassifier(n_neighbors=k)\n",
    "    knn.fit(X_train, y_train)\n",
    "      \n",
    "    # Compute training and test data accuracy\n",
    "    train_accuracy[i] = knn.score(X_train, y_train)\n",
    "    test_accuracy[i] = knn.score(X_test, y_test)\n",
    "  \n",
    "# Generate plot\n",
    "plt.plot(neighbors, test_accuracy, label = 'Testing dataset Accuracy')\n",
    "plt.plot(neighbors, train_accuracy, label = 'Training dataset Accuracy')\n",
    "  \n",
    "plt.legend()\n",
    "plt.xlabel('n_neighbors')\n",
    "plt.ylabel('Accuracy')\n",
    "plt.show()"
   ]
  },
  {
   "cell_type": "code",
   "execution_count": 39,
   "id": "76f6fe18",
   "metadata": {},
   "outputs": [
    {
     "name": "stdout",
     "output_type": "stream",
     "text": [
      "Accuracy : 0.95\n",
      "[[ 9  1]\n",
      " [ 0 10]]\n"
     ]
    }
   ],
   "source": [
    "# from above k=7 seems a good value.\n",
    "\n",
    "# classify using KNN classifier\n",
    "classifier = KNeighborsClassifier(n_neighbors=7)\n",
    "classifier.fit(X_train, y_train)\n",
    "y_pred = classifier.predict(X)\n",
    " \n",
    "# print the accuracy and confusion matrix\n",
    "print('Accuracy : ' + str(accuracy_score(Y, y_pred)))\n",
    "conf_m = confusion_matrix(Y, y_pred)\n",
    "print(conf_m)"
   ]
  },
  {
   "cell_type": "code",
   "execution_count": 40,
   "id": "73260b0a",
   "metadata": {},
   "outputs": [
    {
     "name": "stdout",
     "output_type": "stream",
     "text": [
      "Accuracy : 0.95\n",
      "[[ 9  1]\n",
      " [ 0 10]]\n"
     ]
    }
   ],
   "source": [
    "# from above k=8 seems a good value.\n",
    "\n",
    "# classify using KNN classifier\n",
    "classifier = KNeighborsClassifier(n_neighbors=8)\n",
    "classifier.fit(X_train, y_train)\n",
    "y_pred = classifier.predict(X)\n",
    " \n",
    "# print the accuracy and confusion matrix\n",
    "print('Accuracy : ' + str(accuracy_score(Y, y_pred)))\n",
    "conf_m = confusion_matrix(Y, y_pred)\n",
    "print(conf_m)"
   ]
  },
  {
   "cell_type": "code",
   "execution_count": 41,
   "id": "bbc504af",
   "metadata": {},
   "outputs": [
    {
     "name": "stdout",
     "output_type": "stream",
     "text": [
      "Accuracy : 0.95\n",
      "[[ 9  1]\n",
      " [ 0 10]]\n"
     ]
    }
   ],
   "source": [
    "# classify using Logistic classifier\n",
    "classifier = LogisticRegression()\n",
    "classifier.fit(X_train, y_train)\n",
    "y_pred = classifier.predict(X)\n",
    " \n",
    "# print the accuracy and confusion matrix\n",
    "print('Accuracy : ' + str(accuracy_score(Y, y_pred)))\n",
    "conf_m = confusion_matrix(Y, y_pred)\n",
    "print(conf_m)\n"
   ]
  },
  {
   "cell_type": "code",
   "execution_count": 42,
   "id": "6ffd4ed5",
   "metadata": {},
   "outputs": [
    {
     "name": "stdout",
     "output_type": "stream",
     "text": [
      "Accuracy : 0.95\n",
      "[[ 9  1]\n",
      " [ 0 10]]\n"
     ]
    }
   ],
   "source": [
    "# classify using SVM classifier\n",
    "classifier = SVC(kernel='sigmoid') \n",
    "classifier.fit(X_train, y_train)\n",
    "y_pred = classifier.predict(X)\n",
    " \n",
    "# print the accuracy and confusion matrix\n",
    "print('Accuracy : ' + str(accuracy_score(Y, y_pred)))\n",
    "conf_m = confusion_matrix(Y, y_pred)\n",
    "print(conf_m)\n"
   ]
  },
  {
   "cell_type": "code",
   "execution_count": 43,
   "id": "a2d830ba",
   "metadata": {},
   "outputs": [
    {
     "name": "stdout",
     "output_type": "stream",
     "text": [
      "Accuracy : 0.95\n",
      "[[ 9  1]\n",
      " [ 0 10]]\n"
     ]
    }
   ],
   "source": [
    "# classify using SVM classifier\n",
    "classifier = SVC(kernel='linear') \n",
    "classifier.fit(X_train, y_train)\n",
    "y_pred = classifier.predict(X)\n",
    " \n",
    "# print the accuracy and confusion matrix\n",
    "print('Accuracy : ' + str(accuracy_score(Y, y_pred)))\n",
    "conf_m = confusion_matrix(Y, y_pred)\n",
    "print(conf_m)\n"
   ]
  },
  {
   "cell_type": "code",
   "execution_count": 44,
   "id": "0448be63",
   "metadata": {},
   "outputs": [
    {
     "name": "stdout",
     "output_type": "stream",
     "text": [
      "Accuracy : 0.95\n",
      "[[ 9  1]\n",
      " [ 0 10]]\n"
     ]
    }
   ],
   "source": [
    "# classify using SVM classifier\n",
    "classifier = SVC(kernel='rbf') \n",
    "classifier.fit(X_train, y_train)\n",
    "y_pred = classifier.predict(X)\n",
    " \n",
    "# print the accuracy and confusion matrix\n",
    "print('Accuracy : ' + str(accuracy_score(Y, y_pred)))\n",
    "conf_m = confusion_matrix(Y, y_pred)\n",
    "print(conf_m)\n"
   ]
  },
  {
   "cell_type": "code",
   "execution_count": 45,
   "id": "230585e5",
   "metadata": {},
   "outputs": [
    {
     "name": "stdout",
     "output_type": "stream",
     "text": [
      "Accuracy : 0.9\n",
      "[[10  0]\n",
      " [ 2  8]]\n"
     ]
    }
   ],
   "source": [
    "# classify using SVM classifier\n",
    "classifier = SVC(kernel='poly') \n",
    "classifier.fit(X_train, y_train)\n",
    "y_pred = classifier.predict(X)\n",
    " \n",
    "# print the accuracy and confusion matrix\n",
    "print('Accuracy : ' + str(accuracy_score(Y, y_pred)))\n",
    "conf_m = confusion_matrix(Y, y_pred)\n",
    "print(conf_m)\n"
   ]
  },
  {
   "cell_type": "code",
   "execution_count": 46,
   "id": "2b9558e2",
   "metadata": {},
   "outputs": [
    {
     "name": "stdout",
     "output_type": "stream",
     "text": [
      "Accuracy : 0.95\n",
      "[[10  0]\n",
      " [ 1  9]]\n"
     ]
    }
   ],
   "source": [
    "# classify using random forest classifier\n",
    "classifier = RandomForestClassifier(max_depth=3, random_state=0)\n",
    "classifier.fit(X_train, y_train)\n",
    "y_pred = classifier.predict(X)\n",
    " \n",
    "# print the accuracy and confusion matrix\n",
    "print('Accuracy : ' + str(accuracy_score(Y, y_pred)))\n",
    "conf_m = confusion_matrix(Y, y_pred)\n",
    "print(conf_m)\n"
   ]
  },
  {
   "cell_type": "code",
   "execution_count": 47,
   "id": "d12356a9",
   "metadata": {},
   "outputs": [
    {
     "name": "stdout",
     "output_type": "stream",
     "text": [
      "Accuracy : 0.9\n",
      "[[10  0]\n",
      " [ 2  8]]\n"
     ]
    }
   ],
   "source": [
    "# classify using Decision tree classifier\n",
    "classifier = tree.DecisionTreeClassifier()\n",
    "classifier.fit(X_train, y_train)\n",
    "y_pred = classifier.predict(X)\n",
    " \n",
    "# print the accuracy and confusion matrix\n",
    "print('Accuracy : ' + str(accuracy_score(Y, y_pred)))\n",
    "conf_m = confusion_matrix(Y, y_pred)\n",
    "print(conf_m)\n"
   ]
  },
  {
   "cell_type": "code",
   "execution_count": 48,
   "id": "d2f71906",
   "metadata": {},
   "outputs": [
    {
     "name": "stdout",
     "output_type": "stream",
     "text": [
      "Accuracy : 0.95\n",
      "[[ 9  1]\n",
      " [ 0 10]]\n"
     ]
    }
   ],
   "source": [
    "# classify using naive Bayesian classifier\n",
    "classifier = GaussianNB()\n",
    "classifier.fit(X_train, y_train)\n",
    "y_pred = classifier.predict(X)\n",
    " \n",
    "# print the accuracy and confusion matrix\n",
    "print('Accuracy : ' + str(accuracy_score(Y, y_pred)))\n",
    "conf_m = confusion_matrix(Y, y_pred)\n",
    "print(conf_m)\n"
   ]
  },
  {
   "cell_type": "code",
   "execution_count": 49,
   "id": "7a341e1d",
   "metadata": {},
   "outputs": [
    {
     "data": {
      "text/html": [
       "<div>\n",
       "<style scoped>\n",
       "    .dataframe tbody tr th:only-of-type {\n",
       "        vertical-align: middle;\n",
       "    }\n",
       "\n",
       "    .dataframe tbody tr th {\n",
       "        vertical-align: top;\n",
       "    }\n",
       "\n",
       "    .dataframe thead th {\n",
       "        text-align: right;\n",
       "    }\n",
       "</style>\n",
       "<table border=\"1\" class=\"dataframe\">\n",
       "  <thead>\n",
       "    <tr style=\"text-align: right;\">\n",
       "      <th></th>\n",
       "      <th>algorithm</th>\n",
       "      <th>accuracy</th>\n",
       "    </tr>\n",
       "  </thead>\n",
       "  <tbody>\n",
       "    <tr>\n",
       "      <th>0</th>\n",
       "      <td>LogisticRegression</td>\n",
       "      <td>0.95</td>\n",
       "    </tr>\n",
       "    <tr>\n",
       "      <th>1</th>\n",
       "      <td>SVC sigmoid</td>\n",
       "      <td>0.95</td>\n",
       "    </tr>\n",
       "    <tr>\n",
       "      <th>2</th>\n",
       "      <td>KNeighborsClassifier 7</td>\n",
       "      <td>0.95</td>\n",
       "    </tr>\n",
       "    <tr>\n",
       "      <th>3</th>\n",
       "      <td>RandomForestClassifier</td>\n",
       "      <td>0.95</td>\n",
       "    </tr>\n",
       "    <tr>\n",
       "      <th>4</th>\n",
       "      <td>DecisionTreeClassifier</td>\n",
       "      <td>0.90</td>\n",
       "    </tr>\n",
       "    <tr>\n",
       "      <th>5</th>\n",
       "      <td>GaussianNB</td>\n",
       "      <td>0.95</td>\n",
       "    </tr>\n",
       "    <tr>\n",
       "      <th>6</th>\n",
       "      <td>SVC linear</td>\n",
       "      <td>0.95</td>\n",
       "    </tr>\n",
       "    <tr>\n",
       "      <th>7</th>\n",
       "      <td>SVC rbf</td>\n",
       "      <td>0.95</td>\n",
       "    </tr>\n",
       "    <tr>\n",
       "      <th>8</th>\n",
       "      <td>SVC poly</td>\n",
       "      <td>0.90</td>\n",
       "    </tr>\n",
       "  </tbody>\n",
       "</table>\n",
       "</div>"
      ],
      "text/plain": [
       "                algorithm  accuracy\n",
       "0      LogisticRegression      0.95\n",
       "1             SVC sigmoid      0.95\n",
       "2  KNeighborsClassifier 7      0.95\n",
       "3  RandomForestClassifier      0.95\n",
       "4  DecisionTreeClassifier      0.90\n",
       "5              GaussianNB      0.95\n",
       "6              SVC linear      0.95\n",
       "7                 SVC rbf      0.95\n",
       "8                SVC poly      0.90"
      ]
     },
     "execution_count": 49,
     "metadata": {},
     "output_type": "execute_result"
    }
   ],
   "source": [
    "data_fs = {\n",
    "    'LogisticRegression' : 0.95,\n",
    "    'SVC sigmoid' : 0.95,\n",
    "    'KNeighborsClassifier 7' : 0.95,\n",
    "    'RandomForestClassifier' : 0.95,\n",
    "    'DecisionTreeClassifier' : 0.90,\n",
    "    'GaussianNB' : 0.95,\n",
    "    'SVC linear' : 0.95,\n",
    "    'SVC rbf' : 0.95,\n",
    "    'SVC poly' : 0.90\n",
    "}\n",
    "classification_fs = pd.DataFrame(data_fs.items(), columns = ['algorithm', 'accuracy'])\n",
    "classification_fs"
   ]
  },
  {
   "cell_type": "code",
   "execution_count": null,
   "id": "880fbd09",
   "metadata": {},
   "outputs": [],
   "source": []
  }
 ],
 "metadata": {
  "kernelspec": {
   "display_name": "Python 3 (ipykernel)",
   "language": "python",
   "name": "python3"
  },
  "language_info": {
   "codemirror_mode": {
    "name": "ipython",
    "version": 3
   },
   "file_extension": ".py",
   "mimetype": "text/x-python",
   "name": "python",
   "nbconvert_exporter": "python",
   "pygments_lexer": "ipython3",
   "version": "3.10.11"
  }
 },
 "nbformat": 4,
 "nbformat_minor": 5
}
