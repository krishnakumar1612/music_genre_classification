{
 "cells": [
  {
   "cell_type": "code",
   "execution_count": 1,
   "id": "9d7c10e1",
   "metadata": {},
   "outputs": [],
   "source": [
    "#Import libraries\n",
    "import librosa\n",
    "import numpy as np\n",
    "import pandas as pd\n",
    "import matplotlib.pyplot as plt\n",
    "\n",
    "from sklearn.preprocessing import StandardScaler\n",
    "from sklearn.model_selection import train_test_split\n",
    "from sklearn.metrics import accuracy_score, confusion_matrix\n",
    "from sklearn.model_selection import cross_val_score\n",
    "from sklearn.discriminant_analysis import LinearDiscriminantAnalysis\n",
    "from sklearn.neighbors import KNeighborsClassifier\n",
    "from sklearn.ensemble import RandomForestClassifier\n",
    "from sklearn.naive_bayes import GaussianNB\n",
    "from sklearn.linear_model import LogisticRegression\n",
    "from sklearn.svm import SVC  \n",
    "from sklearn import tree\n",
    "import seaborn as sns"
   ]
  },
  {
   "cell_type": "code",
   "execution_count": 2,
   "id": "08f17160",
   "metadata": {},
   "outputs": [
    {
     "name": "stderr",
     "output_type": "stream",
     "text": [
      "D:\\virtualpython\\myvenv\\Lib\\site-packages\\pyAudioAnalysis\\..\\pydub\\utils.py:170: RuntimeWarning: Couldn't find ffmpeg or avconv - defaulting to ffmpeg, but may not work\n",
      "  warn(\"Couldn't find ffmpeg or avconv - defaulting to ffmpeg, but may not work\", RuntimeWarning)\n"
     ]
    }
   ],
   "source": [
    "#run this cell 2 times as 1st time it gave runtime warning.\n",
    "from pyAudioAnalysis import MidTermFeatures as aF"
   ]
  },
  {
   "cell_type": "code",
   "execution_count": 3,
   "id": "5131aa68",
   "metadata": {},
   "outputs": [
    {
     "data": {
      "text/plain": [
       "['D:\\\\mtech\\\\Speech Analytics\\\\day2\\\\music\\\\classical\\\\',\n",
       " 'D:\\\\mtech\\\\Speech Analytics\\\\day2\\\\music\\\\metal\\\\']"
      ]
     },
     "execution_count": 3,
     "metadata": {},
     "output_type": "execute_result"
    }
   ],
   "source": [
    "#Load the data\n",
    "path = \"D:\\mtech\\Speech Analytics\\day2\\music\"\n",
    "dirs = [path+\"\\\\classical\\\\\", path+\"\\\\metal\\\\\"] \n",
    "dirs"
   ]
  },
  {
   "cell_type": "code",
   "execution_count": 4,
   "id": "dc817272",
   "metadata": {},
   "outputs": [
    {
     "data": {
      "text/plain": [
       "['classical', 'metal']"
      ]
     },
     "execution_count": 4,
     "metadata": {},
     "output_type": "execute_result"
    }
   ],
   "source": [
    "#Define classes\n",
    "class_names = ['classical', 'metal'] \n",
    "class_names"
   ]
  },
  {
   "cell_type": "code",
   "execution_count": 5,
   "id": "93170898",
   "metadata": {},
   "outputs": [],
   "source": [
    "#initialize minimu window, minimum step, window size and step size\n",
    "m_win, m_step, s_win, s_step = 1, 1, 0.1, 0.05"
   ]
  },
  {
   "cell_type": "code",
   "execution_count": 6,
   "id": "c0786380",
   "metadata": {},
   "outputs": [
    {
     "name": "stdout",
     "output_type": "stream",
     "text": [
      "D:\\mtech\\Speech Analytics\\day2\\music\\classical\\\n",
      "Analyzing file 1 of 10: D:\\mtech\\Speech Analytics\\day2\\music\\classical\\data_music_classical_classical.00012.au.wav\n",
      "Analyzing file 2 of 10: D:\\mtech\\Speech Analytics\\day2\\music\\classical\\data_music_classical_classical.00017.au.wav\n",
      "Analyzing file 3 of 10: D:\\mtech\\Speech Analytics\\day2\\music\\classical\\data_music_classical_classical.00023.au.wav\n",
      "Analyzing file 4 of 10: D:\\mtech\\Speech Analytics\\day2\\music\\classical\\data_music_classical_classical.00027.au.wav\n",
      "Analyzing file 5 of 10: D:\\mtech\\Speech Analytics\\day2\\music\\classical\\data_music_classical_classical.00030.au.wav\n",
      "Analyzing file 6 of 10: D:\\mtech\\Speech Analytics\\day2\\music\\classical\\data_music_classical_classical.00040.au.wav\n",
      "Analyzing file 7 of 10: D:\\mtech\\Speech Analytics\\day2\\music\\classical\\data_music_classical_classical.00048.au.wav\n",
      "Analyzing file 8 of 10: D:\\mtech\\Speech Analytics\\day2\\music\\classical\\data_music_classical_classical.00052.au.wav\n",
      "Analyzing file 9 of 10: D:\\mtech\\Speech Analytics\\day2\\music\\classical\\data_music_classical_classical.00057.au.wav\n",
      "Analyzing file 10 of 10: D:\\mtech\\Speech Analytics\\day2\\music\\classical\\data_music_classical_classical.00062.au.wav\n",
      "Feature extraction complexity ratio: 23.4 x realtime\n",
      "D:\\mtech\\Speech Analytics\\day2\\music\\metal\\\n",
      "Analyzing file 1 of 10: D:\\mtech\\Speech Analytics\\day2\\music\\metal\\data_music_metal_metal.00015.au.wav\n",
      "Analyzing file 2 of 10: D:\\mtech\\Speech Analytics\\day2\\music\\metal\\data_music_metal_metal.00023.au.wav\n",
      "Analyzing file 3 of 10: D:\\mtech\\Speech Analytics\\day2\\music\\metal\\data_music_metal_metal.00034.au.wav\n",
      "Analyzing file 4 of 10: D:\\mtech\\Speech Analytics\\day2\\music\\metal\\data_music_metal_metal.00038.au.wav\n",
      "Analyzing file 5 of 10: D:\\mtech\\Speech Analytics\\day2\\music\\metal\\data_music_metal_metal.00043.au.wav\n",
      "Analyzing file 6 of 10: D:\\mtech\\Speech Analytics\\day2\\music\\metal\\data_music_metal_metal.00052.au.wav\n",
      "Analyzing file 7 of 10: D:\\mtech\\Speech Analytics\\day2\\music\\metal\\data_music_metal_metal.00070.au.wav\n",
      "Analyzing file 8 of 10: D:\\mtech\\Speech Analytics\\day2\\music\\metal\\data_music_metal_metal.00076.au.wav\n",
      "Analyzing file 9 of 10: D:\\mtech\\Speech Analytics\\day2\\music\\metal\\data_music_metal_metal.00088.au.wav\n",
      "Analyzing file 10 of 10: D:\\mtech\\Speech Analytics\\day2\\music\\metal\\data_music_metal_metal.00098.au.wav\n",
      "Feature extraction complexity ratio: 24.1 x realtime\n"
     ]
    }
   ],
   "source": [
    "# segment-level feature extraction:\n",
    "features = [] \n",
    "#Extract the features\n",
    "for d in dirs: # get feature matrix for each directory (class)\n",
    "    print(d)\n",
    "    f, _, fn = aF.directory_feature_extraction(d, m_win, m_step, \n",
    "                                                   s_win, s_step) \n",
    "    features.append(f)"
   ]
  },
  {
   "cell_type": "code",
   "execution_count": 7,
   "id": "0c28301b",
   "metadata": {},
   "outputs": [
    {
     "name": "stdout",
     "output_type": "stream",
     "text": [
      "2\n",
      "(10, 138)\n"
     ]
    }
   ],
   "source": [
    "print(len(features))\n",
    "print(features[0].shape)"
   ]
  },
  {
   "cell_type": "code",
   "execution_count": 8,
   "id": "bad718c8",
   "metadata": {},
   "outputs": [
    {
     "data": {
      "text/plain": [
       "array([[1.80389961e-01, 5.83426779e-02, 3.24215393e+00, ...,\n",
       "        8.16622670e-03, 2.00000000e+02, 9.37499989e-02],\n",
       "       [2.36084579e-01, 4.51324260e-02, 3.20337700e+00, ...,\n",
       "        5.92134326e-03, 1.71428571e+02, 1.87499998e-01],\n",
       "       [1.39812924e-01, 7.41176724e-02, 3.25051884e+00, ...,\n",
       "        5.08672374e-03, 4.00000000e+02, 1.36363635e-01],\n",
       "       ...,\n",
       "       [1.65239444e-01, 2.48579223e-02, 3.17368998e+00, ...,\n",
       "        6.63576808e-03, 2.40000000e+02, 1.37254901e-01],\n",
       "       [2.52816020e-01, 3.15424944e-02, 3.04960657e+00, ...,\n",
       "        2.04765510e-02, 1.50000000e+02, 2.22222220e-01],\n",
       "       [2.33021540e-01, 3.46355248e-02, 3.20578801e+00, ...,\n",
       "        9.23241609e-03, 2.00000000e+02, 1.39534882e-01]])"
      ]
     },
     "execution_count": 8,
     "metadata": {},
     "output_type": "execute_result"
    }
   ],
   "source": [
    "features[0]"
   ]
  },
  {
   "cell_type": "code",
   "execution_count": 9,
   "id": "a4f23e32",
   "metadata": {},
   "outputs": [
    {
     "data": {
      "text/plain": [
       "138"
      ]
     },
     "execution_count": 9,
     "metadata": {},
     "output_type": "execute_result"
    }
   ],
   "source": [
    "len(fn)"
   ]
  },
  {
   "cell_type": "code",
   "execution_count": 10,
   "id": "8ace8184",
   "metadata": {},
   "outputs": [
    {
     "data": {
      "text/plain": [
       "['zcr_mean',\n",
       " 'energy_mean',\n",
       " 'energy_entropy_mean',\n",
       " 'spectral_centroid_mean',\n",
       " 'spectral_spread_mean',\n",
       " 'spectral_entropy_mean',\n",
       " 'spectral_flux_mean',\n",
       " 'spectral_rolloff_mean',\n",
       " 'mfcc_1_mean',\n",
       " 'mfcc_2_mean',\n",
       " 'mfcc_3_mean',\n",
       " 'mfcc_4_mean',\n",
       " 'mfcc_5_mean',\n",
       " 'mfcc_6_mean',\n",
       " 'mfcc_7_mean',\n",
       " 'mfcc_8_mean',\n",
       " 'mfcc_9_mean',\n",
       " 'mfcc_10_mean',\n",
       " 'mfcc_11_mean',\n",
       " 'mfcc_12_mean',\n",
       " 'mfcc_13_mean',\n",
       " 'chroma_1_mean',\n",
       " 'chroma_2_mean',\n",
       " 'chroma_3_mean',\n",
       " 'chroma_4_mean',\n",
       " 'chroma_5_mean',\n",
       " 'chroma_6_mean',\n",
       " 'chroma_7_mean',\n",
       " 'chroma_8_mean',\n",
       " 'chroma_9_mean',\n",
       " 'chroma_10_mean',\n",
       " 'chroma_11_mean',\n",
       " 'chroma_12_mean',\n",
       " 'chroma_std_mean',\n",
       " 'delta zcr_mean',\n",
       " 'delta energy_mean',\n",
       " 'delta energy_entropy_mean',\n",
       " 'delta spectral_centroid_mean',\n",
       " 'delta spectral_spread_mean',\n",
       " 'delta spectral_entropy_mean',\n",
       " 'delta spectral_flux_mean',\n",
       " 'delta spectral_rolloff_mean',\n",
       " 'delta mfcc_1_mean',\n",
       " 'delta mfcc_2_mean',\n",
       " 'delta mfcc_3_mean',\n",
       " 'delta mfcc_4_mean',\n",
       " 'delta mfcc_5_mean',\n",
       " 'delta mfcc_6_mean',\n",
       " 'delta mfcc_7_mean',\n",
       " 'delta mfcc_8_mean',\n",
       " 'delta mfcc_9_mean',\n",
       " 'delta mfcc_10_mean',\n",
       " 'delta mfcc_11_mean',\n",
       " 'delta mfcc_12_mean',\n",
       " 'delta mfcc_13_mean',\n",
       " 'delta chroma_1_mean',\n",
       " 'delta chroma_2_mean',\n",
       " 'delta chroma_3_mean',\n",
       " 'delta chroma_4_mean',\n",
       " 'delta chroma_5_mean',\n",
       " 'delta chroma_6_mean',\n",
       " 'delta chroma_7_mean',\n",
       " 'delta chroma_8_mean',\n",
       " 'delta chroma_9_mean',\n",
       " 'delta chroma_10_mean',\n",
       " 'delta chroma_11_mean',\n",
       " 'delta chroma_12_mean',\n",
       " 'delta chroma_std_mean',\n",
       " 'zcr_std',\n",
       " 'energy_std',\n",
       " 'energy_entropy_std',\n",
       " 'spectral_centroid_std',\n",
       " 'spectral_spread_std',\n",
       " 'spectral_entropy_std',\n",
       " 'spectral_flux_std',\n",
       " 'spectral_rolloff_std',\n",
       " 'mfcc_1_std',\n",
       " 'mfcc_2_std',\n",
       " 'mfcc_3_std',\n",
       " 'mfcc_4_std',\n",
       " 'mfcc_5_std',\n",
       " 'mfcc_6_std',\n",
       " 'mfcc_7_std',\n",
       " 'mfcc_8_std',\n",
       " 'mfcc_9_std',\n",
       " 'mfcc_10_std',\n",
       " 'mfcc_11_std',\n",
       " 'mfcc_12_std',\n",
       " 'mfcc_13_std',\n",
       " 'chroma_1_std',\n",
       " 'chroma_2_std',\n",
       " 'chroma_3_std',\n",
       " 'chroma_4_std',\n",
       " 'chroma_5_std',\n",
       " 'chroma_6_std',\n",
       " 'chroma_7_std',\n",
       " 'chroma_8_std',\n",
       " 'chroma_9_std',\n",
       " 'chroma_10_std',\n",
       " 'chroma_11_std',\n",
       " 'chroma_12_std',\n",
       " 'chroma_std_std',\n",
       " 'delta zcr_std',\n",
       " 'delta energy_std',\n",
       " 'delta energy_entropy_std',\n",
       " 'delta spectral_centroid_std',\n",
       " 'delta spectral_spread_std',\n",
       " 'delta spectral_entropy_std',\n",
       " 'delta spectral_flux_std',\n",
       " 'delta spectral_rolloff_std',\n",
       " 'delta mfcc_1_std',\n",
       " 'delta mfcc_2_std',\n",
       " 'delta mfcc_3_std',\n",
       " 'delta mfcc_4_std',\n",
       " 'delta mfcc_5_std',\n",
       " 'delta mfcc_6_std',\n",
       " 'delta mfcc_7_std',\n",
       " 'delta mfcc_8_std',\n",
       " 'delta mfcc_9_std',\n",
       " 'delta mfcc_10_std',\n",
       " 'delta mfcc_11_std',\n",
       " 'delta mfcc_12_std',\n",
       " 'delta mfcc_13_std',\n",
       " 'delta chroma_1_std',\n",
       " 'delta chroma_2_std',\n",
       " 'delta chroma_3_std',\n",
       " 'delta chroma_4_std',\n",
       " 'delta chroma_5_std',\n",
       " 'delta chroma_6_std',\n",
       " 'delta chroma_7_std',\n",
       " 'delta chroma_8_std',\n",
       " 'delta chroma_9_std',\n",
       " 'delta chroma_10_std',\n",
       " 'delta chroma_11_std',\n",
       " 'delta chroma_12_std',\n",
       " 'delta chroma_std_std',\n",
       " 'bpm',\n",
       " 'ratio']"
      ]
     },
     "execution_count": 10,
     "metadata": {},
     "output_type": "execute_result"
    }
   ],
   "source": [
    "fn"
   ]
  },
  {
   "cell_type": "code",
   "execution_count": 11,
   "id": "2ee7f949",
   "metadata": {},
   "outputs": [
    {
     "data": {
      "text/plain": [
       "(20, 138)"
      ]
     },
     "execution_count": 11,
     "metadata": {},
     "output_type": "execute_result"
    }
   ],
   "source": [
    "X = np.concatenate((features[0], features[1]), axis = 0)\n",
    "X.shape"
   ]
  },
  {
   "cell_type": "code",
   "execution_count": 12,
   "id": "fa4a303b",
   "metadata": {},
   "outputs": [
    {
     "data": {
      "text/html": [
       "<div>\n",
       "<style scoped>\n",
       "    .dataframe tbody tr th:only-of-type {\n",
       "        vertical-align: middle;\n",
       "    }\n",
       "\n",
       "    .dataframe tbody tr th {\n",
       "        vertical-align: top;\n",
       "    }\n",
       "\n",
       "    .dataframe thead th {\n",
       "        text-align: right;\n",
       "    }\n",
       "</style>\n",
       "<table border=\"1\" class=\"dataframe\">\n",
       "  <thead>\n",
       "    <tr style=\"text-align: right;\">\n",
       "      <th></th>\n",
       "      <th>zcr_mean</th>\n",
       "      <th>energy_mean</th>\n",
       "      <th>energy_entropy_mean</th>\n",
       "      <th>spectral_centroid_mean</th>\n",
       "      <th>spectral_spread_mean</th>\n",
       "      <th>spectral_entropy_mean</th>\n",
       "      <th>spectral_flux_mean</th>\n",
       "      <th>spectral_rolloff_mean</th>\n",
       "      <th>mfcc_1_mean</th>\n",
       "      <th>mfcc_2_mean</th>\n",
       "      <th>...</th>\n",
       "      <th>delta chroma_6_std</th>\n",
       "      <th>delta chroma_7_std</th>\n",
       "      <th>delta chroma_8_std</th>\n",
       "      <th>delta chroma_9_std</th>\n",
       "      <th>delta chroma_10_std</th>\n",
       "      <th>delta chroma_11_std</th>\n",
       "      <th>delta chroma_12_std</th>\n",
       "      <th>delta chroma_std_std</th>\n",
       "      <th>bpm</th>\n",
       "      <th>ratio</th>\n",
       "    </tr>\n",
       "  </thead>\n",
       "  <tbody>\n",
       "    <tr>\n",
       "      <th>0</th>\n",
       "      <td>0.180390</td>\n",
       "      <td>0.058343</td>\n",
       "      <td>3.242154</td>\n",
       "      <td>0.266911</td>\n",
       "      <td>0.222966</td>\n",
       "      <td>1.513042</td>\n",
       "      <td>0.003619</td>\n",
       "      <td>0.285987</td>\n",
       "      <td>-22.230259</td>\n",
       "      <td>1.794978</td>\n",
       "      <td>...</td>\n",
       "      <td>0.015081</td>\n",
       "      <td>0.006559</td>\n",
       "      <td>0.001366</td>\n",
       "      <td>0.003712</td>\n",
       "      <td>0.002799</td>\n",
       "      <td>0.011527</td>\n",
       "      <td>0.001026</td>\n",
       "      <td>0.008166</td>\n",
       "      <td>200.000000</td>\n",
       "      <td>0.093750</td>\n",
       "    </tr>\n",
       "    <tr>\n",
       "      <th>1</th>\n",
       "      <td>0.236085</td>\n",
       "      <td>0.045132</td>\n",
       "      <td>3.203377</td>\n",
       "      <td>0.296077</td>\n",
       "      <td>0.212635</td>\n",
       "      <td>2.079468</td>\n",
       "      <td>0.003288</td>\n",
       "      <td>0.342171</td>\n",
       "      <td>-21.738364</td>\n",
       "      <td>1.269739</td>\n",
       "      <td>...</td>\n",
       "      <td>0.004553</td>\n",
       "      <td>0.007423</td>\n",
       "      <td>0.024603</td>\n",
       "      <td>0.009285</td>\n",
       "      <td>0.006696</td>\n",
       "      <td>0.001399</td>\n",
       "      <td>0.001899</td>\n",
       "      <td>0.005921</td>\n",
       "      <td>171.428571</td>\n",
       "      <td>0.187500</td>\n",
       "    </tr>\n",
       "    <tr>\n",
       "      <th>2</th>\n",
       "      <td>0.139813</td>\n",
       "      <td>0.074118</td>\n",
       "      <td>3.250519</td>\n",
       "      <td>0.213665</td>\n",
       "      <td>0.217639</td>\n",
       "      <td>1.369740</td>\n",
       "      <td>0.002566</td>\n",
       "      <td>0.224539</td>\n",
       "      <td>-21.637362</td>\n",
       "      <td>2.647678</td>\n",
       "      <td>...</td>\n",
       "      <td>0.001631</td>\n",
       "      <td>0.019909</td>\n",
       "      <td>0.003435</td>\n",
       "      <td>0.007699</td>\n",
       "      <td>0.004259</td>\n",
       "      <td>0.003550</td>\n",
       "      <td>0.012377</td>\n",
       "      <td>0.005087</td>\n",
       "      <td>400.000000</td>\n",
       "      <td>0.136364</td>\n",
       "    </tr>\n",
       "    <tr>\n",
       "      <th>3</th>\n",
       "      <td>0.173539</td>\n",
       "      <td>0.055513</td>\n",
       "      <td>3.282597</td>\n",
       "      <td>0.203469</td>\n",
       "      <td>0.195141</td>\n",
       "      <td>1.499466</td>\n",
       "      <td>0.002425</td>\n",
       "      <td>0.329211</td>\n",
       "      <td>-22.449529</td>\n",
       "      <td>2.809373</td>\n",
       "      <td>...</td>\n",
       "      <td>0.000603</td>\n",
       "      <td>0.011263</td>\n",
       "      <td>0.001926</td>\n",
       "      <td>0.001233</td>\n",
       "      <td>0.001260</td>\n",
       "      <td>0.016588</td>\n",
       "      <td>0.003688</td>\n",
       "      <td>0.005119</td>\n",
       "      <td>200.000000</td>\n",
       "      <td>0.113636</td>\n",
       "    </tr>\n",
       "    <tr>\n",
       "      <th>4</th>\n",
       "      <td>0.160694</td>\n",
       "      <td>0.037572</td>\n",
       "      <td>3.260459</td>\n",
       "      <td>0.282089</td>\n",
       "      <td>0.239487</td>\n",
       "      <td>1.628624</td>\n",
       "      <td>0.004600</td>\n",
       "      <td>0.318092</td>\n",
       "      <td>-22.828334</td>\n",
       "      <td>1.662391</td>\n",
       "      <td>...</td>\n",
       "      <td>0.004972</td>\n",
       "      <td>0.009842</td>\n",
       "      <td>0.004936</td>\n",
       "      <td>0.010952</td>\n",
       "      <td>0.000636</td>\n",
       "      <td>0.006089</td>\n",
       "      <td>0.004353</td>\n",
       "      <td>0.019988</td>\n",
       "      <td>300.000000</td>\n",
       "      <td>0.088235</td>\n",
       "    </tr>\n",
       "  </tbody>\n",
       "</table>\n",
       "<p>5 rows × 138 columns</p>\n",
       "</div>"
      ],
      "text/plain": [
       "   zcr_mean  energy_mean  energy_entropy_mean  spectral_centroid_mean   \n",
       "0  0.180390     0.058343             3.242154                0.266911  \\\n",
       "1  0.236085     0.045132             3.203377                0.296077   \n",
       "2  0.139813     0.074118             3.250519                0.213665   \n",
       "3  0.173539     0.055513             3.282597                0.203469   \n",
       "4  0.160694     0.037572             3.260459                0.282089   \n",
       "\n",
       "   spectral_spread_mean  spectral_entropy_mean  spectral_flux_mean   \n",
       "0              0.222966               1.513042            0.003619  \\\n",
       "1              0.212635               2.079468            0.003288   \n",
       "2              0.217639               1.369740            0.002566   \n",
       "3              0.195141               1.499466            0.002425   \n",
       "4              0.239487               1.628624            0.004600   \n",
       "\n",
       "   spectral_rolloff_mean  mfcc_1_mean  mfcc_2_mean  ...  delta chroma_6_std   \n",
       "0               0.285987   -22.230259     1.794978  ...            0.015081  \\\n",
       "1               0.342171   -21.738364     1.269739  ...            0.004553   \n",
       "2               0.224539   -21.637362     2.647678  ...            0.001631   \n",
       "3               0.329211   -22.449529     2.809373  ...            0.000603   \n",
       "4               0.318092   -22.828334     1.662391  ...            0.004972   \n",
       "\n",
       "   delta chroma_7_std  delta chroma_8_std  delta chroma_9_std   \n",
       "0            0.006559            0.001366            0.003712  \\\n",
       "1            0.007423            0.024603            0.009285   \n",
       "2            0.019909            0.003435            0.007699   \n",
       "3            0.011263            0.001926            0.001233   \n",
       "4            0.009842            0.004936            0.010952   \n",
       "\n",
       "   delta chroma_10_std  delta chroma_11_std  delta chroma_12_std   \n",
       "0             0.002799             0.011527             0.001026  \\\n",
       "1             0.006696             0.001399             0.001899   \n",
       "2             0.004259             0.003550             0.012377   \n",
       "3             0.001260             0.016588             0.003688   \n",
       "4             0.000636             0.006089             0.004353   \n",
       "\n",
       "   delta chroma_std_std         bpm     ratio  \n",
       "0              0.008166  200.000000  0.093750  \n",
       "1              0.005921  171.428571  0.187500  \n",
       "2              0.005087  400.000000  0.136364  \n",
       "3              0.005119  200.000000  0.113636  \n",
       "4              0.019988  300.000000  0.088235  \n",
       "\n",
       "[5 rows x 138 columns]"
      ]
     },
     "execution_count": 12,
     "metadata": {},
     "output_type": "execute_result"
    }
   ],
   "source": [
    "df = pd.DataFrame(data = X, columns = fn)\n",
    "df.head()"
   ]
  },
  {
   "cell_type": "code",
   "execution_count": 13,
   "id": "f2956024",
   "metadata": {},
   "outputs": [
    {
     "data": {
      "text/plain": [
       "array([0, 0, 0, 0, 0, 0, 0, 0, 0, 0, 1, 1, 1, 1, 1, 1, 1, 1, 1, 1])"
      ]
     },
     "execution_count": 13,
     "metadata": {},
     "output_type": "execute_result"
    }
   ],
   "source": [
    "# Create Label values for the dataset\n",
    "# ['classical', 'metal'] = > 0,1\n",
    "z = np.zeros([10, 1], dtype = int)\n",
    "o = np.ones([10, 1], dtype = int)\n",
    "\n",
    "Y = np.concatenate((z,  o), axis = 0)\n",
    "Y = Y.ravel()\n",
    "Y"
   ]
  },
  {
   "cell_type": "code",
   "execution_count": 14,
   "id": "7e1c471e",
   "metadata": {},
   "outputs": [
    {
     "data": {
      "text/html": [
       "<div>\n",
       "<style scoped>\n",
       "    .dataframe tbody tr th:only-of-type {\n",
       "        vertical-align: middle;\n",
       "    }\n",
       "\n",
       "    .dataframe tbody tr th {\n",
       "        vertical-align: top;\n",
       "    }\n",
       "\n",
       "    .dataframe thead th {\n",
       "        text-align: right;\n",
       "    }\n",
       "</style>\n",
       "<table border=\"1\" class=\"dataframe\">\n",
       "  <thead>\n",
       "    <tr style=\"text-align: right;\">\n",
       "      <th></th>\n",
       "      <th>zcr_mean</th>\n",
       "      <th>energy_mean</th>\n",
       "      <th>energy_entropy_mean</th>\n",
       "      <th>spectral_centroid_mean</th>\n",
       "      <th>spectral_spread_mean</th>\n",
       "      <th>spectral_entropy_mean</th>\n",
       "      <th>spectral_flux_mean</th>\n",
       "      <th>spectral_rolloff_mean</th>\n",
       "      <th>mfcc_1_mean</th>\n",
       "      <th>mfcc_2_mean</th>\n",
       "      <th>...</th>\n",
       "      <th>delta chroma_7_std</th>\n",
       "      <th>delta chroma_8_std</th>\n",
       "      <th>delta chroma_9_std</th>\n",
       "      <th>delta chroma_10_std</th>\n",
       "      <th>delta chroma_11_std</th>\n",
       "      <th>delta chroma_12_std</th>\n",
       "      <th>delta chroma_std_std</th>\n",
       "      <th>bpm</th>\n",
       "      <th>ratio</th>\n",
       "      <th>Y</th>\n",
       "    </tr>\n",
       "  </thead>\n",
       "  <tbody>\n",
       "    <tr>\n",
       "      <th>0</th>\n",
       "      <td>0.180390</td>\n",
       "      <td>0.058343</td>\n",
       "      <td>3.242154</td>\n",
       "      <td>0.266911</td>\n",
       "      <td>0.222966</td>\n",
       "      <td>1.513042</td>\n",
       "      <td>0.003619</td>\n",
       "      <td>0.285987</td>\n",
       "      <td>-22.230259</td>\n",
       "      <td>1.794978</td>\n",
       "      <td>...</td>\n",
       "      <td>0.006559</td>\n",
       "      <td>0.001366</td>\n",
       "      <td>0.003712</td>\n",
       "      <td>0.002799</td>\n",
       "      <td>0.011527</td>\n",
       "      <td>0.001026</td>\n",
       "      <td>0.008166</td>\n",
       "      <td>200.000000</td>\n",
       "      <td>0.093750</td>\n",
       "      <td>0</td>\n",
       "    </tr>\n",
       "    <tr>\n",
       "      <th>1</th>\n",
       "      <td>0.236085</td>\n",
       "      <td>0.045132</td>\n",
       "      <td>3.203377</td>\n",
       "      <td>0.296077</td>\n",
       "      <td>0.212635</td>\n",
       "      <td>2.079468</td>\n",
       "      <td>0.003288</td>\n",
       "      <td>0.342171</td>\n",
       "      <td>-21.738364</td>\n",
       "      <td>1.269739</td>\n",
       "      <td>...</td>\n",
       "      <td>0.007423</td>\n",
       "      <td>0.024603</td>\n",
       "      <td>0.009285</td>\n",
       "      <td>0.006696</td>\n",
       "      <td>0.001399</td>\n",
       "      <td>0.001899</td>\n",
       "      <td>0.005921</td>\n",
       "      <td>171.428571</td>\n",
       "      <td>0.187500</td>\n",
       "      <td>0</td>\n",
       "    </tr>\n",
       "    <tr>\n",
       "      <th>2</th>\n",
       "      <td>0.139813</td>\n",
       "      <td>0.074118</td>\n",
       "      <td>3.250519</td>\n",
       "      <td>0.213665</td>\n",
       "      <td>0.217639</td>\n",
       "      <td>1.369740</td>\n",
       "      <td>0.002566</td>\n",
       "      <td>0.224539</td>\n",
       "      <td>-21.637362</td>\n",
       "      <td>2.647678</td>\n",
       "      <td>...</td>\n",
       "      <td>0.019909</td>\n",
       "      <td>0.003435</td>\n",
       "      <td>0.007699</td>\n",
       "      <td>0.004259</td>\n",
       "      <td>0.003550</td>\n",
       "      <td>0.012377</td>\n",
       "      <td>0.005087</td>\n",
       "      <td>400.000000</td>\n",
       "      <td>0.136364</td>\n",
       "      <td>0</td>\n",
       "    </tr>\n",
       "    <tr>\n",
       "      <th>3</th>\n",
       "      <td>0.173539</td>\n",
       "      <td>0.055513</td>\n",
       "      <td>3.282597</td>\n",
       "      <td>0.203469</td>\n",
       "      <td>0.195141</td>\n",
       "      <td>1.499466</td>\n",
       "      <td>0.002425</td>\n",
       "      <td>0.329211</td>\n",
       "      <td>-22.449529</td>\n",
       "      <td>2.809373</td>\n",
       "      <td>...</td>\n",
       "      <td>0.011263</td>\n",
       "      <td>0.001926</td>\n",
       "      <td>0.001233</td>\n",
       "      <td>0.001260</td>\n",
       "      <td>0.016588</td>\n",
       "      <td>0.003688</td>\n",
       "      <td>0.005119</td>\n",
       "      <td>200.000000</td>\n",
       "      <td>0.113636</td>\n",
       "      <td>0</td>\n",
       "    </tr>\n",
       "    <tr>\n",
       "      <th>4</th>\n",
       "      <td>0.160694</td>\n",
       "      <td>0.037572</td>\n",
       "      <td>3.260459</td>\n",
       "      <td>0.282089</td>\n",
       "      <td>0.239487</td>\n",
       "      <td>1.628624</td>\n",
       "      <td>0.004600</td>\n",
       "      <td>0.318092</td>\n",
       "      <td>-22.828334</td>\n",
       "      <td>1.662391</td>\n",
       "      <td>...</td>\n",
       "      <td>0.009842</td>\n",
       "      <td>0.004936</td>\n",
       "      <td>0.010952</td>\n",
       "      <td>0.000636</td>\n",
       "      <td>0.006089</td>\n",
       "      <td>0.004353</td>\n",
       "      <td>0.019988</td>\n",
       "      <td>300.000000</td>\n",
       "      <td>0.088235</td>\n",
       "      <td>0</td>\n",
       "    </tr>\n",
       "  </tbody>\n",
       "</table>\n",
       "<p>5 rows × 139 columns</p>\n",
       "</div>"
      ],
      "text/plain": [
       "   zcr_mean  energy_mean  energy_entropy_mean  spectral_centroid_mean   \n",
       "0  0.180390     0.058343             3.242154                0.266911  \\\n",
       "1  0.236085     0.045132             3.203377                0.296077   \n",
       "2  0.139813     0.074118             3.250519                0.213665   \n",
       "3  0.173539     0.055513             3.282597                0.203469   \n",
       "4  0.160694     0.037572             3.260459                0.282089   \n",
       "\n",
       "   spectral_spread_mean  spectral_entropy_mean  spectral_flux_mean   \n",
       "0              0.222966               1.513042            0.003619  \\\n",
       "1              0.212635               2.079468            0.003288   \n",
       "2              0.217639               1.369740            0.002566   \n",
       "3              0.195141               1.499466            0.002425   \n",
       "4              0.239487               1.628624            0.004600   \n",
       "\n",
       "   spectral_rolloff_mean  mfcc_1_mean  mfcc_2_mean  ...  delta chroma_7_std   \n",
       "0               0.285987   -22.230259     1.794978  ...            0.006559  \\\n",
       "1               0.342171   -21.738364     1.269739  ...            0.007423   \n",
       "2               0.224539   -21.637362     2.647678  ...            0.019909   \n",
       "3               0.329211   -22.449529     2.809373  ...            0.011263   \n",
       "4               0.318092   -22.828334     1.662391  ...            0.009842   \n",
       "\n",
       "   delta chroma_8_std  delta chroma_9_std  delta chroma_10_std   \n",
       "0            0.001366            0.003712             0.002799  \\\n",
       "1            0.024603            0.009285             0.006696   \n",
       "2            0.003435            0.007699             0.004259   \n",
       "3            0.001926            0.001233             0.001260   \n",
       "4            0.004936            0.010952             0.000636   \n",
       "\n",
       "   delta chroma_11_std  delta chroma_12_std  delta chroma_std_std         bpm   \n",
       "0             0.011527             0.001026              0.008166  200.000000  \\\n",
       "1             0.001399             0.001899              0.005921  171.428571   \n",
       "2             0.003550             0.012377              0.005087  400.000000   \n",
       "3             0.016588             0.003688              0.005119  200.000000   \n",
       "4             0.006089             0.004353              0.019988  300.000000   \n",
       "\n",
       "      ratio  Y  \n",
       "0  0.093750  0  \n",
       "1  0.187500  0  \n",
       "2  0.136364  0  \n",
       "3  0.113636  0  \n",
       "4  0.088235  0  \n",
       "\n",
       "[5 rows x 139 columns]"
      ]
     },
     "execution_count": 14,
     "metadata": {},
     "output_type": "execute_result"
    }
   ],
   "source": [
    "df['Y'] = Y\n",
    "df.head()"
   ]
  },
  {
   "cell_type": "markdown",
   "id": "fc08a095",
   "metadata": {},
   "source": [
    "# Part 1   \n",
    "### Feature engineering with LDA"
   ]
  },
  {
   "cell_type": "code",
   "execution_count": 15,
   "id": "815614aa",
   "metadata": {},
   "outputs": [],
   "source": [
    "# Preprocess the dataset, Scale it with standard scaler\n",
    "from sklearn.preprocessing import StandardScaler\n",
    "sclda = StandardScaler()\n",
    "x = sclda.fit_transform(X)"
   ]
  },
  {
   "cell_type": "code",
   "execution_count": 16,
   "id": "71e439b1",
   "metadata": {},
   "outputs": [
    {
     "data": {
      "text/plain": [
       "array([[-0.55942697,  0.98487851,  0.99953631, ..., -0.61709799,\n",
       "         0.08000237, -1.30287595],\n",
       "       [ 0.54184312,  0.10608226,  0.65895532, ..., -0.93301982,\n",
       "        -0.32678935,  0.17801995],\n",
       "       [-1.3617716 ,  2.03429121,  1.07300599, ..., -1.0504756 ,\n",
       "         2.92754442, -0.62974145],\n",
       "       ...,\n",
       "       [ 0.04233149,  0.0494775 , -1.5237611 , ...,  0.89028317,\n",
       "         1.5037734 ,  1.38881534],\n",
       "       [-1.388473  , -0.70822408, -1.12184295, ...,  0.35408588,\n",
       "         0.64951078,  0.00379691],\n",
       "       [ 0.55747321, -1.17015537, -0.54858626, ...,  0.08331283,\n",
       "        -0.63188314, -0.03660264]])"
      ]
     },
     "execution_count": 16,
     "metadata": {},
     "output_type": "execute_result"
    }
   ],
   "source": [
    "x\n",
    "#xdf = pd.DataFrame(x)\n",
    "#xdf"
   ]
  },
  {
   "cell_type": "code",
   "execution_count": 17,
   "id": "e07c64b2",
   "metadata": {},
   "outputs": [
    {
     "data": {
      "text/plain": [
       "array([[-1.44043863],\n",
       "       [-1.6226246 ],\n",
       "       [-2.51329725],\n",
       "       [-2.89242166],\n",
       "       [-1.67347127],\n",
       "       [ 0.02960954],\n",
       "       [-1.6369072 ],\n",
       "       [ 0.17500001],\n",
       "       [ 0.19560111],\n",
       "       [-0.13745819],\n",
       "       [ 1.17675133],\n",
       "       [ 0.74101374],\n",
       "       [ 1.23318259],\n",
       "       [ 1.82146838],\n",
       "       [-0.4902973 ],\n",
       "       [ 0.85300694],\n",
       "       [ 1.8966166 ],\n",
       "       [ 2.45560738],\n",
       "       [ 1.42742801],\n",
       "       [ 0.40163047]])"
      ]
     },
     "execution_count": 17,
     "metadata": {},
     "output_type": "execute_result"
    }
   ],
   "source": [
    "# apply Linear Discriminant Analysis to get 1 most important fetaure.\n",
    "lda = LinearDiscriminantAnalysis(n_components=1)\n",
    "x = lda.fit_transform(x, Y)\n",
    "x\n"
   ]
  },
  {
   "cell_type": "code",
   "execution_count": 18,
   "id": "2653f870",
   "metadata": {},
   "outputs": [
    {
     "data": {
      "image/png": "[encoded data removed]",
      "text/plain": [
       "<Figure size 640x480 with 2 Axes>"
      ]
     },
     "metadata": {},
     "output_type": "display_data"
    }
   ],
   "source": [
    "ldadf = pd.DataFrame(x, columns = ['lda'])\n",
    "ldadf['Y'] = Y\n",
    "ldadf['xindex'] = range(1, 21)\n",
    "ldadf.plot(kind = 'scatter', x='xindex', y='lda', c=Y, cmap='rainbow')\n",
    "plt.show()"
   ]
  },
  {
   "cell_type": "code",
   "execution_count": 19,
   "id": "23e9ab78",
   "metadata": {},
   "outputs": [],
   "source": [
    "# from above lot it looks like data is linearly saperable."
   ]
  },
  {
   "cell_type": "code",
   "execution_count": 20,
   "id": "f785e60a",
   "metadata": {},
   "outputs": [
    {
     "name": "stdout",
     "output_type": "stream",
     "text": [
      "scores of each fold :  [1.  1.  1.  1.  0.5 1.  1.  0.5 0.5 1. ]\n",
      "average score :  0.85\n"
     ]
    }
   ],
   "source": [
    "# classify using Logistic classifier\n",
    "l_scores = cross_val_score(LogisticRegression(), x, Y, cv=10)\n",
    "avgsc_lr = np.average(l_scores)\n",
    "print ( 'scores of each fold : ', l_scores)\n",
    "print ( 'average score : ', avgsc_lr)"
   ]
  },
  {
   "cell_type": "code",
   "execution_count": 21,
   "id": "4d5e8465",
   "metadata": {
    "scrolled": true
   },
   "outputs": [
    {
     "name": "stdout",
     "output_type": "stream",
     "text": [
      "scores of each fold :  [1.  1.  1.  1.  0.5 0.5 1.  0.5 0.5 1. ]\n",
      "average score :  0.8\n"
     ]
    }
   ],
   "source": [
    "# classify using SVM classifier kernel='sigmoid'\n",
    "l_scores = cross_val_score(SVC(kernel='sigmoid'), x, Y, cv=10)\n",
    "avgsc_svc_sg = np.average(l_scores)\n",
    "print ( 'scores of each fold : ', l_scores)\n",
    "print ( 'average score : ', avgsc_svc_sg)\n"
   ]
  },
  {
   "cell_type": "code",
   "execution_count": 22,
   "id": "f0f0e2a4",
   "metadata": {},
   "outputs": [
    {
     "name": "stdout",
     "output_type": "stream",
     "text": [
      "scores of each fold :  [1.  1.  1.  1.  0.5 0.5 1.  0.5 0.5 1. ]\n",
      "average score :  0.8\n"
     ]
    }
   ],
   "source": [
    "# classify using SVM classifier kernel='linear'\n",
    "l_scores = cross_val_score(SVC(kernel='linear'), x, Y, cv=10)\n",
    "avgsc_svc_li = np.average(l_scores)\n",
    "print ( 'scores of each fold : ', l_scores)\n",
    "print ( 'average score : ', avgsc_svc_li)\n"
   ]
  },
  {
   "cell_type": "code",
   "execution_count": 23,
   "id": "a6473a01",
   "metadata": {},
   "outputs": [
    {
     "name": "stdout",
     "output_type": "stream",
     "text": [
      "scores of each fold :  [1.  1.  1.  1.  0.5 1.  1.  0.5 0.5 1. ]\n",
      "average score :  0.85\n"
     ]
    }
   ],
   "source": [
    "# classify using SVM classifier kernel='rbf'\n",
    "l_scores = cross_val_score(SVC(kernel='rbf'), x, Y, cv=10)\n",
    "avgsc_svc_rbf = np.average(l_scores)\n",
    "print ( 'scores of each fold : ', l_scores)\n",
    "print ( 'average score : ', avgsc_svc_rbf)\n"
   ]
  },
  {
   "cell_type": "code",
   "execution_count": 24,
   "id": "c8a73966",
   "metadata": {},
   "outputs": [
    {
     "name": "stdout",
     "output_type": "stream",
     "text": [
      "scores of each fold :  [1.  1.  1.  1.  1.  0.5 1.  0.5 0.5 0.5]\n",
      "average score :  0.8\n"
     ]
    }
   ],
   "source": [
    "# classify using SVM classifier kernel='poly'\n",
    "l_scores = cross_val_score(SVC(kernel='poly'), x, Y, cv=10)\n",
    "avgsc_svc_poly = np.average(l_scores)\n",
    "print ( 'scores of each fold : ', l_scores)\n",
    "print ( 'average score : ', avgsc_svc_poly)\n"
   ]
  },
  {
   "cell_type": "code",
   "execution_count": 25,
   "id": "77db388a",
   "metadata": {},
   "outputs": [
    {
     "name": "stdout",
     "output_type": "stream",
     "text": [
      "scores of each fold :  [1.  1.  1.  1.  0.5 1.  1.  1.  1.  0.5]\n",
      "average score :  0.9\n"
     ]
    }
   ],
   "source": [
    "# classify using random forest classifier\n",
    "l_scores = cross_val_score(RandomForestClassifier(max_depth=3, random_state=0), x, Y, cv=10)\n",
    "avgsc_rfc = np.average(l_scores)\n",
    "print ( 'scores of each fold : ', l_scores)\n",
    "print ( 'average score : ', avgsc_rfc)\n"
   ]
  },
  {
   "cell_type": "code",
   "execution_count": 26,
   "id": "bddac43a",
   "metadata": {},
   "outputs": [
    {
     "name": "stdout",
     "output_type": "stream",
     "text": [
      "scores of each fold :  [1.  1.  1.  1.  0.5 0.5 1.  0.5 0.5 1. ]\n",
      "average score :  0.8\n"
     ]
    }
   ],
   "source": [
    "# classify using naive Bayesian classifier\n",
    "l_scores = cross_val_score(GaussianNB(), x, Y, cv=10)\n",
    "avgsc_gnb = np.average(l_scores)\n",
    "print ( 'scores of each fold : ', l_scores)\n",
    "print ( 'average score : ', avgsc_gnb)\n"
   ]
  },
  {
   "cell_type": "code",
   "execution_count": 27,
   "id": "79fc5dbd",
   "metadata": {},
   "outputs": [
    {
     "name": "stdout",
     "output_type": "stream",
     "text": [
      "scores of each fold :  [1.  1.  1.  1.  0.5 1.  1.  1.  1.  0.5]\n",
      "average score :  0.9\n"
     ]
    }
   ],
   "source": [
    "# classify using Decision tree classifier\n",
    "l_scores = cross_val_score(tree.DecisionTreeClassifier(), x, Y, cv=10)\n",
    "avgsc_dt = np.average(l_scores)\n",
    "print ( 'scores of each fold : ', l_scores)\n",
    "print ( 'average score : ', avgsc_dt)\n"
   ]
  },
  {
   "cell_type": "code",
   "execution_count": 28,
   "id": "53e89be5",
   "metadata": {},
   "outputs": [
    {
     "data": {
      "image/png": "[encoded data removed]",
      "text/plain": [
       "<Figure size 640x480 with 1 Axes>"
      ]
     },
     "metadata": {},
     "output_type": "display_data"
    }
   ],
   "source": [
    "X_train, X_test, y_train, y_test = train_test_split(x, Y, test_size=0.3, random_state=11)\n",
    "\n",
    "# Using KNN classifier\n",
    "neighbors = np.arange(1, 11)\n",
    "train_accuracy = np.empty(len(neighbors))\n",
    "test_accuracy = np.empty(len(neighbors))\n",
    "  \n",
    "# Loop over K values\n",
    "for i, k in enumerate(neighbors):\n",
    "    knn = KNeighborsClassifier(n_neighbors=k)\n",
    "    knn.fit(X_train, y_train)\n",
    "      \n",
    "    # Compute training and test data accuracy\n",
    "    train_accuracy[i] = knn.score(X_train, y_train)\n",
    "    test_accuracy[i] = knn.score(X_test, y_test)\n",
    "  \n",
    "# Generate plot\n",
    "plt.plot(neighbors, test_accuracy, label = 'Testing dataset Accuracy')\n",
    "plt.plot(neighbors, train_accuracy, label = 'Training dataset Accuracy')\n",
    "  \n",
    "plt.legend()\n",
    "plt.xlabel('n_neighbors')\n",
    "plt.ylabel('Accuracy')\n",
    "plt.show()\n"
   ]
  },
  {
   "cell_type": "code",
   "execution_count": 29,
   "id": "b0bebabf",
   "metadata": {},
   "outputs": [
    {
     "name": "stdout",
     "output_type": "stream",
     "text": [
      "scores of each fold :  [1.  1.  1.  1.  0.5 0.5 1.  0.5 0.5 1. ]\n",
      "average score :  0.8\n"
     ]
    }
   ],
   "source": [
    "# classify using KNN classifier\n",
    "lda_classifier_knn = KNeighborsClassifier(n_neighbors=8)\n",
    "l_scores = cross_val_score(lda_classifier_knn, x, Y, cv=10)\n",
    "avgsc_knc = np.average(l_scores)\n",
    "print ( 'scores of each fold : ', l_scores)\n",
    "print ( 'average score : ', avgsc_knc)\n"
   ]
  },
  {
   "cell_type": "code",
   "execution_count": 30,
   "id": "57cef3bb",
   "metadata": {},
   "outputs": [
    {
     "data": {
      "text/html": [
       "<div>\n",
       "<style scoped>\n",
       "    .dataframe tbody tr th:only-of-type {\n",
       "        vertical-align: middle;\n",
       "    }\n",
       "\n",
       "    .dataframe tbody tr th {\n",
       "        vertical-align: top;\n",
       "    }\n",
       "\n",
       "    .dataframe thead th {\n",
       "        text-align: right;\n",
       "    }\n",
       "</style>\n",
       "<table border=\"1\" class=\"dataframe\">\n",
       "  <thead>\n",
       "    <tr style=\"text-align: right;\">\n",
       "      <th></th>\n",
       "      <th>algorithm</th>\n",
       "      <th>accuracy</th>\n",
       "    </tr>\n",
       "  </thead>\n",
       "  <tbody>\n",
       "    <tr>\n",
       "      <th>3</th>\n",
       "      <td>RandomForestClassifier</td>\n",
       "      <td>0.90</td>\n",
       "    </tr>\n",
       "    <tr>\n",
       "      <th>4</th>\n",
       "      <td>DecisionTreeClassifier</td>\n",
       "      <td>0.90</td>\n",
       "    </tr>\n",
       "    <tr>\n",
       "      <th>0</th>\n",
       "      <td>LogisticRegression</td>\n",
       "      <td>0.85</td>\n",
       "    </tr>\n",
       "    <tr>\n",
       "      <th>7</th>\n",
       "      <td>SVC rbf</td>\n",
       "      <td>0.85</td>\n",
       "    </tr>\n",
       "    <tr>\n",
       "      <th>1</th>\n",
       "      <td>SVC sigmoid</td>\n",
       "      <td>0.80</td>\n",
       "    </tr>\n",
       "    <tr>\n",
       "      <th>2</th>\n",
       "      <td>KNeighborsClassifier</td>\n",
       "      <td>0.80</td>\n",
       "    </tr>\n",
       "    <tr>\n",
       "      <th>5</th>\n",
       "      <td>GaussianNB</td>\n",
       "      <td>0.80</td>\n",
       "    </tr>\n",
       "    <tr>\n",
       "      <th>6</th>\n",
       "      <td>SVC linear</td>\n",
       "      <td>0.80</td>\n",
       "    </tr>\n",
       "    <tr>\n",
       "      <th>8</th>\n",
       "      <td>SVC poly</td>\n",
       "      <td>0.80</td>\n",
       "    </tr>\n",
       "  </tbody>\n",
       "</table>\n",
       "</div>"
      ],
      "text/plain": [
       "                algorithm  accuracy\n",
       "3  RandomForestClassifier      0.90\n",
       "4  DecisionTreeClassifier      0.90\n",
       "0      LogisticRegression      0.85\n",
       "7                 SVC rbf      0.85\n",
       "1             SVC sigmoid      0.80\n",
       "2   KNeighborsClassifier       0.80\n",
       "5              GaussianNB      0.80\n",
       "6              SVC linear      0.80\n",
       "8                SVC poly      0.80"
      ]
     },
     "execution_count": 30,
     "metadata": {},
     "output_type": "execute_result"
    }
   ],
   "source": [
    "data = {\n",
    "    'LogisticRegression' : avgsc_lr,\n",
    "    'SVC sigmoid' : avgsc_svc_sg,\n",
    "    'KNeighborsClassifier ' : avgsc_knc,\n",
    "    'RandomForestClassifier' : avgsc_rfc,\n",
    "    'DecisionTreeClassifier' : avgsc_dt,\n",
    "    'GaussianNB' : avgsc_gnb,\n",
    "    'SVC linear' : avgsc_svc_li,\n",
    "    'SVC rbf' : avgsc_svc_rbf,\n",
    "    'SVC poly' : avgsc_svc_poly\n",
    "}\n",
    "classification_lda = pd.DataFrame(data.items(), columns = ['algorithm', 'accuracy'])\n",
    "classification_lda = classification_lda.sort_values(by=['accuracy'], ascending=False)\n",
    "classification_lda"
   ]
  },
  {
   "cell_type": "markdown",
   "id": "92e58fe4",
   "metadata": {},
   "source": [
    "# Part 2\n",
    "### Feature selection with 2 features  \n",
    "these 2 features seems to be promising and selected with intution "
   ]
  },
  {
   "cell_type": "code",
   "execution_count": 31,
   "id": "7cd135ce",
   "metadata": {},
   "outputs": [],
   "source": [
    "dfs = df [['spectral_centroid_mean', 'energy_entropy_mean']]"
   ]
  },
  {
   "cell_type": "code",
   "execution_count": 32,
   "id": "57071300",
   "metadata": {},
   "outputs": [
    {
     "data": {
      "text/html": [
       "<div>\n",
       "<style scoped>\n",
       "    .dataframe tbody tr th:only-of-type {\n",
       "        vertical-align: middle;\n",
       "    }\n",
       "\n",
       "    .dataframe tbody tr th {\n",
       "        vertical-align: top;\n",
       "    }\n",
       "\n",
       "    .dataframe thead th {\n",
       "        text-align: right;\n",
       "    }\n",
       "</style>\n",
       "<table border=\"1\" class=\"dataframe\">\n",
       "  <thead>\n",
       "    <tr style=\"text-align: right;\">\n",
       "      <th></th>\n",
       "      <th>spectral_centroid_mean</th>\n",
       "      <th>energy_entropy_mean</th>\n",
       "    </tr>\n",
       "  </thead>\n",
       "  <tbody>\n",
       "    <tr>\n",
       "      <th>0</th>\n",
       "      <td>0.266911</td>\n",
       "      <td>3.242154</td>\n",
       "    </tr>\n",
       "    <tr>\n",
       "      <th>1</th>\n",
       "      <td>0.296077</td>\n",
       "      <td>3.203377</td>\n",
       "    </tr>\n",
       "    <tr>\n",
       "      <th>2</th>\n",
       "      <td>0.213665</td>\n",
       "      <td>3.250519</td>\n",
       "    </tr>\n",
       "    <tr>\n",
       "      <th>3</th>\n",
       "      <td>0.203469</td>\n",
       "      <td>3.282597</td>\n",
       "    </tr>\n",
       "    <tr>\n",
       "      <th>4</th>\n",
       "      <td>0.282089</td>\n",
       "      <td>3.260459</td>\n",
       "    </tr>\n",
       "  </tbody>\n",
       "</table>\n",
       "</div>"
      ],
      "text/plain": [
       "   spectral_centroid_mean  energy_entropy_mean\n",
       "0                0.266911             3.242154\n",
       "1                0.296077             3.203377\n",
       "2                0.213665             3.250519\n",
       "3                0.203469             3.282597\n",
       "4                0.282089             3.260459"
      ]
     },
     "execution_count": 32,
     "metadata": {},
     "output_type": "execute_result"
    }
   ],
   "source": [
    "dfs.head()"
   ]
  },
  {
   "cell_type": "code",
   "execution_count": 33,
   "id": "48b27076",
   "metadata": {},
   "outputs": [],
   "source": [
    "scs = StandardScaler()\n",
    "x = scs.fit_transform(dfs.values)"
   ]
  },
  {
   "cell_type": "code",
   "execution_count": 34,
   "id": "2e00524a",
   "metadata": {},
   "outputs": [
    {
     "data": {
      "text/plain": [
       "(20, 20)"
      ]
     },
     "execution_count": 34,
     "metadata": {},
     "output_type": "execute_result"
    }
   ],
   "source": [
    "len(x), len(Y)"
   ]
  },
  {
   "cell_type": "code",
   "execution_count": 35,
   "id": "24acf17c",
   "metadata": {},
   "outputs": [
    {
     "data": {
      "image/png": "[encoded data removed]",
      "text/plain": [
       "<Figure size 640x480 with 1 Axes>"
      ]
     },
     "metadata": {},
     "output_type": "display_data"
    }
   ],
   "source": [
    "# plot the scatterplot\n",
    "plt.scatter(\n",
    "    x[:,0],x[:,1],c=Y,cmap='rainbow',\n",
    "  alpha=0.7,edgecolors='b'\n",
    ")\n",
    "plt.xlabel('spectral_centroid_mean')\n",
    "plt.ylabel('energy_entropy_mean')\n",
    "plt.show()"
   ]
  },
  {
   "cell_type": "code",
   "execution_count": 36,
   "id": "5c0f2495",
   "metadata": {},
   "outputs": [],
   "source": [
    "# from above plot data does not have a clean saperation"
   ]
  },
  {
   "cell_type": "code",
   "execution_count": 37,
   "id": "451e2ae1",
   "metadata": {},
   "outputs": [
    {
     "data": {
      "image/png": "[encoded data removed]",
      "text/plain": [
       "<Figure size 640x480 with 1 Axes>"
      ]
     },
     "metadata": {},
     "output_type": "display_data"
    }
   ],
   "source": [
    "\n",
    "# split in train and test\n",
    "X_train, X_test, y_train, y_test = train_test_split(x, Y, test_size=0.3, random_state=11)\n",
    "\n",
    "# Using KNN classifier\n",
    "neighbors = np.arange(1, 9)\n",
    "train_accuracy = np.empty(len(neighbors))\n",
    "test_accuracy = np.empty(len(neighbors))\n",
    "  \n",
    "# Loop over K values\n",
    "for i, k in enumerate(neighbors):\n",
    "    knn = KNeighborsClassifier(n_neighbors=k)\n",
    "    knn.fit(X_train, y_train)\n",
    "      \n",
    "    # Compute training and test data accuracy\n",
    "    train_accuracy[i] = knn.score(X_train, y_train)\n",
    "    test_accuracy[i] = knn.score(X_test, y_test)\n",
    "  \n",
    "# Generate plot\n",
    "plt.plot(neighbors, test_accuracy, label = 'Testing dataset Accuracy')\n",
    "plt.plot(neighbors, train_accuracy, label = 'Training dataset Accuracy')\n",
    "  \n",
    "plt.legend()\n",
    "plt.xlabel('n_neighbors')\n",
    "plt.ylabel('Accuracy')\n",
    "plt.show()\n",
    "\n"
   ]
  },
  {
   "cell_type": "code",
   "execution_count": 38,
   "id": "76f6fe18",
   "metadata": {},
   "outputs": [
    {
     "name": "stdout",
     "output_type": "stream",
     "text": [
      "scores of each fold :  [1.  1.  1.  1.  1.  1.  1.  1.  0.5 1. ]\n",
      "average score :  0.95\n"
     ]
    }
   ],
   "source": [
    "# from above k=7 seems a good value.\n",
    "\n",
    "# classify using KNN classifier\n",
    "classifier = KNeighborsClassifier(n_neighbors=7)\n",
    "l_scores = cross_val_score(classifier, x, Y, cv=10)\n",
    "avgsc_knc = np.average(l_scores)\n",
    "print ( 'scores of each fold : ', l_scores)\n",
    "print ( 'average score : ', avgsc_knc)\n"
   ]
  },
  {
   "cell_type": "code",
   "execution_count": 39,
   "id": "bbc504af",
   "metadata": {},
   "outputs": [
    {
     "name": "stdout",
     "output_type": "stream",
     "text": [
      "scores of each fold :  [1.  1.  1.  1.  1.  1.  1.  1.  0.5 1. ]\n",
      "average score :  0.95\n"
     ]
    }
   ],
   "source": [
    "# classify using Logistic classifier\n",
    "classifier = LogisticRegression()\n",
    "l_scores = cross_val_score(classifier, x, Y, cv=10)\n",
    "avgsc_lr = np.average(l_scores)\n",
    "print ( 'scores of each fold : ', l_scores)\n",
    "print ( 'average score : ', avgsc_lr)\n"
   ]
  },
  {
   "cell_type": "code",
   "execution_count": 40,
   "id": "6ffd4ed5",
   "metadata": {},
   "outputs": [
    {
     "name": "stdout",
     "output_type": "stream",
     "text": [
      "scores of each fold :  [1.  1.  1.  1.  1.  1.  1.  1.  0.5 1. ]\n",
      "average score :  0.95\n"
     ]
    }
   ],
   "source": [
    "# classify using SVM classifier kernel='sigmoid'\n",
    "classifier = SVC(kernel='sigmoid') \n",
    "l_scores = cross_val_score(classifier, x, Y, cv=10)\n",
    "avgsc_svc_sg = np.average(l_scores)\n",
    "print ( 'scores of each fold : ', l_scores)\n",
    "print ( 'average score : ', avgsc_svc_sg)\n"
   ]
  },
  {
   "cell_type": "code",
   "execution_count": 41,
   "id": "a2d830ba",
   "metadata": {},
   "outputs": [
    {
     "name": "stdout",
     "output_type": "stream",
     "text": [
      "scores of each fold :  [1.  1.  1.  1.  1.  1.  1.  1.  0.5 1. ]\n",
      "average score :  0.95\n"
     ]
    }
   ],
   "source": [
    "# classify using SVM classifier kernel='linear'\n",
    "classifier = SVC(kernel='linear') \n",
    "l_scores = cross_val_score(classifier, x, Y, cv=10)\n",
    "avgsc_svc_li = np.average(l_scores)\n",
    "print ( 'scores of each fold : ', l_scores)\n",
    "print ( 'average score : ', avgsc_svc_li)\n"
   ]
  },
  {
   "cell_type": "code",
   "execution_count": 42,
   "id": "0448be63",
   "metadata": {},
   "outputs": [
    {
     "name": "stdout",
     "output_type": "stream",
     "text": [
      "scores of each fold :  [1.  1.  1.  1.  1.  1.  1.  1.  0.5 1. ]\n",
      "average score :  0.95\n"
     ]
    }
   ],
   "source": [
    "# classify using SVM classifier kernel='rbf'\n",
    "classifier = SVC(kernel='rbf') \n",
    "l_scores = cross_val_score(classifier, x, Y, cv=10)\n",
    "avgsc_svc_rbf = np.average(l_scores)\n",
    "print ( 'scores of each fold : ', l_scores)\n",
    "print ( 'average score : ', avgsc_svc_rbf)\n"
   ]
  },
  {
   "cell_type": "code",
   "execution_count": 43,
   "id": "230585e5",
   "metadata": {},
   "outputs": [
    {
     "name": "stdout",
     "output_type": "stream",
     "text": [
      "scores of each fold :  [1.  1.  1.  1.  1.  1.  1.  1.  0.5 1. ]\n",
      "average score :  0.95\n"
     ]
    }
   ],
   "source": [
    "# classify using SVM classifier kernel='poly'\n",
    "classifier = SVC(kernel='poly') \n",
    "l_scores = cross_val_score(classifier, x, Y, cv=10)\n",
    "avgsc_svc_poly = np.average(l_scores)\n",
    "print ( 'scores of each fold : ', l_scores)\n",
    "print ( 'average score : ', avgsc_svc_poly)\n"
   ]
  },
  {
   "cell_type": "code",
   "execution_count": 44,
   "id": "2b9558e2",
   "metadata": {},
   "outputs": [
    {
     "name": "stdout",
     "output_type": "stream",
     "text": [
      "scores of each fold :  [1.  0.5 1.  1.  1.  1.  1.  1.  0.5 1. ]\n",
      "average score :  0.9\n"
     ]
    }
   ],
   "source": [
    "# classify using random forest classifier\n",
    "classifier = RandomForestClassifier(max_depth=3, random_state=0)\n",
    "l_scores = cross_val_score(classifier, x, Y, cv=10)\n",
    "avgsc_rfc = np.average(l_scores)\n",
    "print ( 'scores of each fold : ', l_scores)\n",
    "print ( 'average score : ', avgsc_rfc)\n"
   ]
  },
  {
   "cell_type": "code",
   "execution_count": 45,
   "id": "d12356a9",
   "metadata": {},
   "outputs": [
    {
     "name": "stdout",
     "output_type": "stream",
     "text": [
      "scores of each fold :  [1.  1.  1.  0.5 0.5 1.  0.5 0.5 0.5 1. ]\n",
      "average score :  0.75\n"
     ]
    }
   ],
   "source": [
    "# classify using Decision tree classifier\n",
    "classifier = tree.DecisionTreeClassifier()\n",
    "l_scores = cross_val_score(classifier, x, Y, cv=10)\n",
    "avgsc_dt = np.average(l_scores)\n",
    "print ( 'scores of each fold : ', l_scores)\n",
    "print ( 'average score : ', avgsc_dt)\n",
    "\n"
   ]
  },
  {
   "cell_type": "code",
   "execution_count": 46,
   "id": "d2f71906",
   "metadata": {},
   "outputs": [
    {
     "name": "stdout",
     "output_type": "stream",
     "text": [
      "scores of each fold :  [1.  1.  1.  1.  1.  1.  1.  1.  0.5 1. ]\n",
      "average score :  0.95\n"
     ]
    }
   ],
   "source": [
    "# classify using naive Bayesian classifier\n",
    "classifier = GaussianNB()\n",
    "l_scores = cross_val_score(classifier, x, Y, cv=10)\n",
    "avgsc_gnb = np.average(l_scores)\n",
    "print ( 'scores of each fold : ', l_scores)\n",
    "print ( 'average score : ', avgsc_gnb)\n",
    "\n"
   ]
  },
  {
   "cell_type": "code",
   "execution_count": 47,
   "id": "7a341e1d",
   "metadata": {},
   "outputs": [
    {
     "data": {
      "text/html": [
       "<div>\n",
       "<style scoped>\n",
       "    .dataframe tbody tr th:only-of-type {\n",
       "        vertical-align: middle;\n",
       "    }\n",
       "\n",
       "    .dataframe tbody tr th {\n",
       "        vertical-align: top;\n",
       "    }\n",
       "\n",
       "    .dataframe thead th {\n",
       "        text-align: right;\n",
       "    }\n",
       "</style>\n",
       "<table border=\"1\" class=\"dataframe\">\n",
       "  <thead>\n",
       "    <tr style=\"text-align: right;\">\n",
       "      <th></th>\n",
       "      <th>algorithm</th>\n",
       "      <th>accuracy</th>\n",
       "    </tr>\n",
       "  </thead>\n",
       "  <tbody>\n",
       "    <tr>\n",
       "      <th>0</th>\n",
       "      <td>LogisticRegression</td>\n",
       "      <td>0.95</td>\n",
       "    </tr>\n",
       "    <tr>\n",
       "      <th>1</th>\n",
       "      <td>KNeighborsClassifier</td>\n",
       "      <td>0.95</td>\n",
       "    </tr>\n",
       "    <tr>\n",
       "      <th>4</th>\n",
       "      <td>GaussianNB</td>\n",
       "      <td>0.95</td>\n",
       "    </tr>\n",
       "    <tr>\n",
       "      <th>5</th>\n",
       "      <td>SVC sigmoid</td>\n",
       "      <td>0.95</td>\n",
       "    </tr>\n",
       "    <tr>\n",
       "      <th>6</th>\n",
       "      <td>SVC linear</td>\n",
       "      <td>0.95</td>\n",
       "    </tr>\n",
       "    <tr>\n",
       "      <th>7</th>\n",
       "      <td>SVC rbf</td>\n",
       "      <td>0.95</td>\n",
       "    </tr>\n",
       "    <tr>\n",
       "      <th>8</th>\n",
       "      <td>SVC poly</td>\n",
       "      <td>0.95</td>\n",
       "    </tr>\n",
       "    <tr>\n",
       "      <th>3</th>\n",
       "      <td>RandomForestClassifier</td>\n",
       "      <td>0.90</td>\n",
       "    </tr>\n",
       "    <tr>\n",
       "      <th>2</th>\n",
       "      <td>DecisionTreeClassifier</td>\n",
       "      <td>0.75</td>\n",
       "    </tr>\n",
       "  </tbody>\n",
       "</table>\n",
       "</div>"
      ],
      "text/plain": [
       "                algorithm  accuracy\n",
       "0      LogisticRegression      0.95\n",
       "1   KNeighborsClassifier       0.95\n",
       "4              GaussianNB      0.95\n",
       "5             SVC sigmoid      0.95\n",
       "6              SVC linear      0.95\n",
       "7                 SVC rbf      0.95\n",
       "8                SVC poly      0.95\n",
       "3  RandomForestClassifier      0.90\n",
       "2  DecisionTreeClassifier      0.75"
      ]
     },
     "execution_count": 47,
     "metadata": {},
     "output_type": "execute_result"
    }
   ],
   "source": [
    "data_fs = {\n",
    "    'LogisticRegression' : avgsc_lr,\n",
    "    'KNeighborsClassifier ' : avgsc_knc,\n",
    "    'DecisionTreeClassifier' : avgsc_dt,\n",
    "    'RandomForestClassifier' : avgsc_rfc,\n",
    "    'GaussianNB' : avgsc_gnb,\n",
    "    'SVC sigmoid' : avgsc_svc_sg,\n",
    "    'SVC linear' : avgsc_svc_li,\n",
    "    'SVC rbf' : avgsc_svc_rbf,\n",
    "    'SVC poly' : avgsc_svc_poly\n",
    "}\n",
    "classification_fs = pd.DataFrame(data_fs.items(), columns = ['algorithm', 'accuracy'])\n",
    "classification_fs = classification_fs.sort_values(by=['accuracy'], ascending=False)\n",
    "classification_fs"
   ]
  },
  {
   "cell_type": "markdown",
   "id": "5649ab9f",
   "metadata": {},
   "source": [
    "# Part 3\n",
    "### Feature selection with correlation"
   ]
  },
  {
   "cell_type": "code",
   "execution_count": 48,
   "id": "4c886b00",
   "metadata": {},
   "outputs": [
    {
     "data": {
      "text/html": [
       "<div>\n",
       "<style scoped>\n",
       "    .dataframe tbody tr th:only-of-type {\n",
       "        vertical-align: middle;\n",
       "    }\n",
       "\n",
       "    .dataframe tbody tr th {\n",
       "        vertical-align: top;\n",
       "    }\n",
       "\n",
       "    .dataframe thead th {\n",
       "        text-align: right;\n",
       "    }\n",
       "</style>\n",
       "<table border=\"1\" class=\"dataframe\">\n",
       "  <thead>\n",
       "    <tr style=\"text-align: right;\">\n",
       "      <th></th>\n",
       "      <th>zcr_mean</th>\n",
       "      <th>energy_mean</th>\n",
       "      <th>energy_entropy_mean</th>\n",
       "      <th>spectral_centroid_mean</th>\n",
       "      <th>spectral_spread_mean</th>\n",
       "      <th>spectral_entropy_mean</th>\n",
       "      <th>spectral_flux_mean</th>\n",
       "      <th>spectral_rolloff_mean</th>\n",
       "      <th>mfcc_1_mean</th>\n",
       "      <th>mfcc_2_mean</th>\n",
       "      <th>...</th>\n",
       "      <th>delta chroma_7_std</th>\n",
       "      <th>delta chroma_8_std</th>\n",
       "      <th>delta chroma_9_std</th>\n",
       "      <th>delta chroma_10_std</th>\n",
       "      <th>delta chroma_11_std</th>\n",
       "      <th>delta chroma_12_std</th>\n",
       "      <th>delta chroma_std_std</th>\n",
       "      <th>bpm</th>\n",
       "      <th>ratio</th>\n",
       "      <th>Y</th>\n",
       "    </tr>\n",
       "  </thead>\n",
       "  <tbody>\n",
       "    <tr>\n",
       "      <th>0</th>\n",
       "      <td>0.180390</td>\n",
       "      <td>0.058343</td>\n",
       "      <td>3.242154</td>\n",
       "      <td>0.266911</td>\n",
       "      <td>0.222966</td>\n",
       "      <td>1.513042</td>\n",
       "      <td>0.003619</td>\n",
       "      <td>0.285987</td>\n",
       "      <td>-22.230259</td>\n",
       "      <td>1.794978</td>\n",
       "      <td>...</td>\n",
       "      <td>0.006559</td>\n",
       "      <td>0.001366</td>\n",
       "      <td>0.003712</td>\n",
       "      <td>0.002799</td>\n",
       "      <td>0.011527</td>\n",
       "      <td>0.001026</td>\n",
       "      <td>0.008166</td>\n",
       "      <td>200.000000</td>\n",
       "      <td>0.09375</td>\n",
       "      <td>0</td>\n",
       "    </tr>\n",
       "    <tr>\n",
       "      <th>1</th>\n",
       "      <td>0.236085</td>\n",
       "      <td>0.045132</td>\n",
       "      <td>3.203377</td>\n",
       "      <td>0.296077</td>\n",
       "      <td>0.212635</td>\n",
       "      <td>2.079468</td>\n",
       "      <td>0.003288</td>\n",
       "      <td>0.342171</td>\n",
       "      <td>-21.738364</td>\n",
       "      <td>1.269739</td>\n",
       "      <td>...</td>\n",
       "      <td>0.007423</td>\n",
       "      <td>0.024603</td>\n",
       "      <td>0.009285</td>\n",
       "      <td>0.006696</td>\n",
       "      <td>0.001399</td>\n",
       "      <td>0.001899</td>\n",
       "      <td>0.005921</td>\n",
       "      <td>171.428571</td>\n",
       "      <td>0.18750</td>\n",
       "      <td>0</td>\n",
       "    </tr>\n",
       "  </tbody>\n",
       "</table>\n",
       "<p>2 rows × 139 columns</p>\n",
       "</div>"
      ],
      "text/plain": [
       "   zcr_mean  energy_mean  energy_entropy_mean  spectral_centroid_mean   \n",
       "0  0.180390     0.058343             3.242154                0.266911  \\\n",
       "1  0.236085     0.045132             3.203377                0.296077   \n",
       "\n",
       "   spectral_spread_mean  spectral_entropy_mean  spectral_flux_mean   \n",
       "0              0.222966               1.513042            0.003619  \\\n",
       "1              0.212635               2.079468            0.003288   \n",
       "\n",
       "   spectral_rolloff_mean  mfcc_1_mean  mfcc_2_mean  ...  delta chroma_7_std   \n",
       "0               0.285987   -22.230259     1.794978  ...            0.006559  \\\n",
       "1               0.342171   -21.738364     1.269739  ...            0.007423   \n",
       "\n",
       "   delta chroma_8_std  delta chroma_9_std  delta chroma_10_std   \n",
       "0            0.001366            0.003712             0.002799  \\\n",
       "1            0.024603            0.009285             0.006696   \n",
       "\n",
       "   delta chroma_11_std  delta chroma_12_std  delta chroma_std_std         bpm   \n",
       "0             0.011527             0.001026              0.008166  200.000000  \\\n",
       "1             0.001399             0.001899              0.005921  171.428571   \n",
       "\n",
       "     ratio  Y  \n",
       "0  0.09375  0  \n",
       "1  0.18750  0  \n",
       "\n",
       "[2 rows x 139 columns]"
      ]
     },
     "execution_count": 48,
     "metadata": {},
     "output_type": "execute_result"
    }
   ],
   "source": [
    "# just check the original dataframe\n",
    "df.head(2)"
   ]
  },
  {
   "cell_type": "code",
   "execution_count": 49,
   "id": "c538a2a9",
   "metadata": {},
   "outputs": [
    {
     "name": "stdout",
     "output_type": "stream",
     "text": [
      "<class 'pandas.core.frame.DataFrame'>\n"
     ]
    }
   ],
   "source": [
    "matrix = df.corr()\n",
    "print(type(matrix))"
   ]
  },
  {
   "cell_type": "code",
   "execution_count": 50,
   "id": "08fe4e48",
   "metadata": {},
   "outputs": [
    {
     "data": {
      "text/html": [
       "<div>\n",
       "<style scoped>\n",
       "    .dataframe tbody tr th:only-of-type {\n",
       "        vertical-align: middle;\n",
       "    }\n",
       "\n",
       "    .dataframe tbody tr th {\n",
       "        vertical-align: top;\n",
       "    }\n",
       "\n",
       "    .dataframe thead th {\n",
       "        text-align: right;\n",
       "    }\n",
       "</style>\n",
       "<table border=\"1\" class=\"dataframe\">\n",
       "  <thead>\n",
       "    <tr style=\"text-align: right;\">\n",
       "      <th></th>\n",
       "      <th>zcr_mean</th>\n",
       "      <th>energy_mean</th>\n",
       "      <th>energy_entropy_mean</th>\n",
       "      <th>spectral_centroid_mean</th>\n",
       "      <th>spectral_spread_mean</th>\n",
       "      <th>spectral_entropy_mean</th>\n",
       "      <th>spectral_flux_mean</th>\n",
       "      <th>spectral_rolloff_mean</th>\n",
       "      <th>mfcc_1_mean</th>\n",
       "      <th>mfcc_2_mean</th>\n",
       "      <th>...</th>\n",
       "      <th>delta chroma_7_std</th>\n",
       "      <th>delta chroma_8_std</th>\n",
       "      <th>delta chroma_9_std</th>\n",
       "      <th>delta chroma_10_std</th>\n",
       "      <th>delta chroma_11_std</th>\n",
       "      <th>delta chroma_12_std</th>\n",
       "      <th>delta chroma_std_std</th>\n",
       "      <th>bpm</th>\n",
       "      <th>ratio</th>\n",
       "      <th>Y</th>\n",
       "    </tr>\n",
       "  </thead>\n",
       "  <tbody>\n",
       "    <tr>\n",
       "      <th>zcr_mean</th>\n",
       "      <td>1.000000</td>\n",
       "      <td>-0.299074</td>\n",
       "      <td>-0.189191</td>\n",
       "      <td>0.773147</td>\n",
       "      <td>0.158312</td>\n",
       "      <td>0.774101</td>\n",
       "      <td>-0.257574</td>\n",
       "      <td>0.875275</td>\n",
       "      <td>0.117874</td>\n",
       "      <td>-0.799904</td>\n",
       "      <td>...</td>\n",
       "      <td>-0.207717</td>\n",
       "      <td>0.163590</td>\n",
       "      <td>-0.405734</td>\n",
       "      <td>0.063971</td>\n",
       "      <td>-0.100461</td>\n",
       "      <td>0.009119</td>\n",
       "      <td>-0.264488</td>\n",
       "      <td>-0.556316</td>\n",
       "      <td>0.054281</td>\n",
       "      <td>0.310127</td>\n",
       "    </tr>\n",
       "    <tr>\n",
       "      <th>energy_mean</th>\n",
       "      <td>-0.299074</td>\n",
       "      <td>1.000000</td>\n",
       "      <td>0.494486</td>\n",
       "      <td>-0.387603</td>\n",
       "      <td>-0.145026</td>\n",
       "      <td>-0.244260</td>\n",
       "      <td>-0.170102</td>\n",
       "      <td>-0.254747</td>\n",
       "      <td>0.476526</td>\n",
       "      <td>0.434879</td>\n",
       "      <td>...</td>\n",
       "      <td>0.115808</td>\n",
       "      <td>-0.005684</td>\n",
       "      <td>0.119349</td>\n",
       "      <td>-0.309726</td>\n",
       "      <td>-0.348977</td>\n",
       "      <td>-0.137514</td>\n",
       "      <td>-0.050229</td>\n",
       "      <td>0.289119</td>\n",
       "      <td>0.137419</td>\n",
       "      <td>-0.266762</td>\n",
       "    </tr>\n",
       "    <tr>\n",
       "      <th>energy_entropy_mean</th>\n",
       "      <td>-0.189191</td>\n",
       "      <td>0.494486</td>\n",
       "      <td>1.000000</td>\n",
       "      <td>-0.579102</td>\n",
       "      <td>-0.625561</td>\n",
       "      <td>0.326868</td>\n",
       "      <td>-0.515662</td>\n",
       "      <td>-0.047277</td>\n",
       "      <td>0.435040</td>\n",
       "      <td>0.549821</td>\n",
       "      <td>...</td>\n",
       "      <td>-0.631560</td>\n",
       "      <td>0.214248</td>\n",
       "      <td>-0.211965</td>\n",
       "      <td>-0.489910</td>\n",
       "      <td>-0.440483</td>\n",
       "      <td>-0.173766</td>\n",
       "      <td>-0.495805</td>\n",
       "      <td>0.159778</td>\n",
       "      <td>-0.628242</td>\n",
       "      <td>-0.768179</td>\n",
       "    </tr>\n",
       "    <tr>\n",
       "      <th>spectral_centroid_mean</th>\n",
       "      <td>0.773147</td>\n",
       "      <td>-0.387603</td>\n",
       "      <td>-0.579102</td>\n",
       "      <td>1.000000</td>\n",
       "      <td>0.704808</td>\n",
       "      <td>0.327212</td>\n",
       "      <td>0.016431</td>\n",
       "      <td>0.748436</td>\n",
       "      <td>0.060003</td>\n",
       "      <td>-0.855812</td>\n",
       "      <td>...</td>\n",
       "      <td>0.249736</td>\n",
       "      <td>-0.045739</td>\n",
       "      <td>-0.076143</td>\n",
       "      <td>0.342196</td>\n",
       "      <td>0.259739</td>\n",
       "      <td>0.216959</td>\n",
       "      <td>0.264856</td>\n",
       "      <td>-0.420499</td>\n",
       "      <td>0.433434</td>\n",
       "      <td>0.735126</td>\n",
       "    </tr>\n",
       "    <tr>\n",
       "      <th>spectral_spread_mean</th>\n",
       "      <td>0.158312</td>\n",
       "      <td>-0.145026</td>\n",
       "      <td>-0.625561</td>\n",
       "      <td>0.704808</td>\n",
       "      <td>1.000000</td>\n",
       "      <td>-0.336888</td>\n",
       "      <td>0.214086</td>\n",
       "      <td>0.280485</td>\n",
       "      <td>0.066725</td>\n",
       "      <td>-0.379743</td>\n",
       "      <td>...</td>\n",
       "      <td>0.665128</td>\n",
       "      <td>-0.317158</td>\n",
       "      <td>0.243967</td>\n",
       "      <td>0.611809</td>\n",
       "      <td>0.591503</td>\n",
       "      <td>0.451234</td>\n",
       "      <td>0.633021</td>\n",
       "      <td>-0.110552</td>\n",
       "      <td>0.637350</td>\n",
       "      <td>0.853187</td>\n",
       "    </tr>\n",
       "  </tbody>\n",
       "</table>\n",
       "<p>5 rows × 139 columns</p>\n",
       "</div>"
      ],
      "text/plain": [
       "                        zcr_mean  energy_mean  energy_entropy_mean   \n",
       "zcr_mean                1.000000    -0.299074            -0.189191  \\\n",
       "energy_mean            -0.299074     1.000000             0.494486   \n",
       "energy_entropy_mean    -0.189191     0.494486             1.000000   \n",
       "spectral_centroid_mean  0.773147    -0.387603            -0.579102   \n",
       "spectral_spread_mean    0.158312    -0.145026            -0.625561   \n",
       "\n",
       "                        spectral_centroid_mean  spectral_spread_mean   \n",
       "zcr_mean                              0.773147              0.158312  \\\n",
       "energy_mean                          -0.387603             -0.145026   \n",
       "energy_entropy_mean                  -0.579102             -0.625561   \n",
       "spectral_centroid_mean                1.000000              0.704808   \n",
       "spectral_spread_mean                  0.704808              1.000000   \n",
       "\n",
       "                        spectral_entropy_mean  spectral_flux_mean   \n",
       "zcr_mean                             0.774101           -0.257574  \\\n",
       "energy_mean                         -0.244260           -0.170102   \n",
       "energy_entropy_mean                  0.326868           -0.515662   \n",
       "spectral_centroid_mean               0.327212            0.016431   \n",
       "spectral_spread_mean                -0.336888            0.214086   \n",
       "\n",
       "                        spectral_rolloff_mean  mfcc_1_mean  mfcc_2_mean  ...   \n",
       "zcr_mean                             0.875275     0.117874    -0.799904  ...  \\\n",
       "energy_mean                         -0.254747     0.476526     0.434879  ...   \n",
       "energy_entropy_mean                 -0.047277     0.435040     0.549821  ...   \n",
       "spectral_centroid_mean               0.748436     0.060003    -0.855812  ...   \n",
       "spectral_spread_mean                 0.280485     0.066725    -0.379743  ...   \n",
       "\n",
       "                        delta chroma_7_std  delta chroma_8_std   \n",
       "zcr_mean                         -0.207717            0.163590  \\\n",
       "energy_mean                       0.115808           -0.005684   \n",
       "energy_entropy_mean              -0.631560            0.214248   \n",
       "spectral_centroid_mean            0.249736           -0.045739   \n",
       "spectral_spread_mean              0.665128           -0.317158   \n",
       "\n",
       "                        delta chroma_9_std  delta chroma_10_std   \n",
       "zcr_mean                         -0.405734             0.063971  \\\n",
       "energy_mean                       0.119349            -0.309726   \n",
       "energy_entropy_mean              -0.211965            -0.489910   \n",
       "spectral_centroid_mean           -0.076143             0.342196   \n",
       "spectral_spread_mean              0.243967             0.611809   \n",
       "\n",
       "                        delta chroma_11_std  delta chroma_12_std   \n",
       "zcr_mean                          -0.100461             0.009119  \\\n",
       "energy_mean                       -0.348977            -0.137514   \n",
       "energy_entropy_mean               -0.440483            -0.173766   \n",
       "spectral_centroid_mean             0.259739             0.216959   \n",
       "spectral_spread_mean               0.591503             0.451234   \n",
       "\n",
       "                        delta chroma_std_std       bpm     ratio         Y  \n",
       "zcr_mean                           -0.264488 -0.556316  0.054281  0.310127  \n",
       "energy_mean                        -0.050229  0.289119  0.137419 -0.266762  \n",
       "energy_entropy_mean                -0.495805  0.159778 -0.628242 -0.768179  \n",
       "spectral_centroid_mean              0.264856 -0.420499  0.433434  0.735126  \n",
       "spectral_spread_mean                0.633021 -0.110552  0.637350  0.853187  \n",
       "\n",
       "[5 rows x 139 columns]"
      ]
     },
     "execution_count": 50,
     "metadata": {},
     "output_type": "execute_result"
    }
   ],
   "source": [
    "matrix.head()"
   ]
  },
  {
   "cell_type": "code",
   "execution_count": 51,
   "id": "0170817d",
   "metadata": {},
   "outputs": [
    {
     "data": {
      "text/plain": [
       "(139, 139)"
      ]
     },
     "execution_count": 51,
     "metadata": {},
     "output_type": "execute_result"
    }
   ],
   "source": [
    "matrix.shape"
   ]
  },
  {
   "cell_type": "code",
   "execution_count": 52,
   "id": "2bea5b9f",
   "metadata": {},
   "outputs": [],
   "source": [
    "feature_imp = matrix[['Y']]"
   ]
  },
  {
   "cell_type": "code",
   "execution_count": 53,
   "id": "d915017a",
   "metadata": {},
   "outputs": [
    {
     "name": "stdout",
     "output_type": "stream",
     "text": [
      "(138, 1)\n",
      "                                    Y\n",
      "spectral_spread_mean         0.853187\n",
      "energy_entropy_mean          0.768179\n",
      "spectral_centroid_mean       0.735126\n",
      "energy_entropy_std           0.733476\n",
      "chroma_5_std                 0.728818\n",
      "delta energy_entropy_std     0.721885\n",
      "mfcc_3_mean                  0.684944\n",
      "delta spectral_centroid_std  0.684245\n",
      "delta chroma_5_std           0.677086\n",
      "mfcc_5_mean                  0.674874\n",
      "delta spectral_entropy_std   0.662506\n",
      "delta spectral_rolloff_std   0.652090\n",
      "delta mfcc_11_mean           0.643226\n",
      "delta mfcc_1_std             0.640961\n",
      "spectral_rolloff_std         0.627531\n",
      "delta chroma_10_std          0.617266\n",
      "delta zcr_std                0.610088\n",
      "delta energy_std             0.556666\n",
      "ratio                        0.522684\n",
      "delta chroma_7_std           0.513778\n"
     ]
    }
   ],
   "source": [
    "feature_imp = feature_imp.apply(abs)\n",
    "feature_imp = feature_imp.sort_values(['Y'], ascending=False)\n",
    "feature_imp = feature_imp[1:]\n",
    "print (feature_imp.shape)\n",
    "print(feature_imp.head(20))"
   ]
  },
  {
   "cell_type": "code",
   "execution_count": 54,
   "id": "ece331b8",
   "metadata": {},
   "outputs": [
    {
     "data": {
      "text/html": [
       "<div>\n",
       "<style scoped>\n",
       "    .dataframe tbody tr th:only-of-type {\n",
       "        vertical-align: middle;\n",
       "    }\n",
       "\n",
       "    .dataframe tbody tr th {\n",
       "        vertical-align: top;\n",
       "    }\n",
       "\n",
       "    .dataframe thead th {\n",
       "        text-align: right;\n",
       "    }\n",
       "</style>\n",
       "<table border=\"1\" class=\"dataframe\">\n",
       "  <thead>\n",
       "    <tr style=\"text-align: right;\">\n",
       "      <th></th>\n",
       "      <th>spectral_spread_mean</th>\n",
       "      <th>energy_entropy_mean</th>\n",
       "      <th>spectral_centroid_mean</th>\n",
       "    </tr>\n",
       "  </thead>\n",
       "  <tbody>\n",
       "    <tr>\n",
       "      <th>0</th>\n",
       "      <td>0.222966</td>\n",
       "      <td>3.242154</td>\n",
       "      <td>0.266911</td>\n",
       "    </tr>\n",
       "    <tr>\n",
       "      <th>1</th>\n",
       "      <td>0.212635</td>\n",
       "      <td>3.203377</td>\n",
       "      <td>0.296077</td>\n",
       "    </tr>\n",
       "    <tr>\n",
       "      <th>2</th>\n",
       "      <td>0.217639</td>\n",
       "      <td>3.250519</td>\n",
       "      <td>0.213665</td>\n",
       "    </tr>\n",
       "    <tr>\n",
       "      <th>3</th>\n",
       "      <td>0.195141</td>\n",
       "      <td>3.282597</td>\n",
       "      <td>0.203469</td>\n",
       "    </tr>\n",
       "    <tr>\n",
       "      <th>4</th>\n",
       "      <td>0.239487</td>\n",
       "      <td>3.260459</td>\n",
       "      <td>0.282089</td>\n",
       "    </tr>\n",
       "  </tbody>\n",
       "</table>\n",
       "</div>"
      ],
      "text/plain": [
       "   spectral_spread_mean  energy_entropy_mean  spectral_centroid_mean\n",
       "0              0.222966             3.242154                0.266911\n",
       "1              0.212635             3.203377                0.296077\n",
       "2              0.217639             3.250519                0.213665\n",
       "3              0.195141             3.282597                0.203469\n",
       "4              0.239487             3.260459                0.282089"
      ]
     },
     "execution_count": 54,
     "metadata": {},
     "output_type": "execute_result"
    }
   ],
   "source": [
    "# Lets take top 03 feature for the mdel training\n",
    "dfsc = df[list(feature_imp.head(3).index)]\n",
    "dfsc.head()"
   ]
  },
  {
   "cell_type": "code",
   "execution_count": 55,
   "id": "abcd5ef9",
   "metadata": {},
   "outputs": [
    {
     "data": {
      "text/plain": [
       "(20, 3)"
      ]
     },
     "execution_count": 55,
     "metadata": {},
     "output_type": "execute_result"
    }
   ],
   "source": [
    "dfsc.shape"
   ]
  },
  {
   "cell_type": "code",
   "execution_count": 56,
   "id": "dca340f3",
   "metadata": {},
   "outputs": [],
   "source": [
    "# Scale the input features\n",
    "sc = StandardScaler()\n",
    "x = sc.fit_transform(dfsc.values)"
   ]
  },
  {
   "cell_type": "code",
   "execution_count": 57,
   "id": "b3e33c29",
   "metadata": {},
   "outputs": [
    {
     "data": {
      "image/png": "[encoded data removed]",
      "text/plain": [
       "<Figure size 640x480 with 1 Axes>"
      ]
     },
     "metadata": {},
     "output_type": "display_data"
    }
   ],
   "source": [
    "# split in train and test\n",
    "X_train, X_test, y_train, y_test = train_test_split(x, Y, test_size=0.3, random_state=11)\n",
    "# Using KNN classifier\n",
    "neighbors = np.arange(1, 9)\n",
    "train_accuracy = np.empty(len(neighbors))\n",
    "test_accuracy = np.empty(len(neighbors))\n",
    "  \n",
    "# Loop over K values\n",
    "for i, k in enumerate(neighbors):\n",
    "    knn = KNeighborsClassifier(n_neighbors=k)\n",
    "    knn.fit(X_train, y_train)\n",
    "      \n",
    "    # Compute training and test data accuracy\n",
    "    train_accuracy[i] = knn.score(X_train, y_train)\n",
    "    test_accuracy[i] = knn.score(X_test, y_test)\n",
    "  \n",
    "# Generate plot\n",
    "plt.plot(neighbors, test_accuracy, label = 'Testing dataset Accuracy')\n",
    "plt.plot(neighbors, train_accuracy, label = 'Training dataset Accuracy')\n",
    "  \n",
    "plt.legend()\n",
    "plt.xlabel('n_neighbors')\n",
    "plt.ylabel('Accuracy')\n",
    "plt.show()\n"
   ]
  },
  {
   "cell_type": "code",
   "execution_count": 58,
   "id": "273540f4",
   "metadata": {},
   "outputs": [
    {
     "name": "stdout",
     "output_type": "stream",
     "text": [
      "scores of each fold :  [1. 1. 1. 1. 1. 1. 1. 1. 1. 1.]\n",
      "average score :  1.0\n"
     ]
    }
   ],
   "source": [
    "# classify using KNN classifier\n",
    "classifier = KNeighborsClassifier(n_neighbors=6)\n",
    "l_scores = cross_val_score(classifier, x, Y, cv=10)\n",
    "avgsc_knc = np.average(l_scores)\n",
    "\n",
    "print ( 'scores of each fold : ', l_scores)\n",
    "print ( 'average score : ', avgsc_knc)\n",
    "\n"
   ]
  },
  {
   "cell_type": "code",
   "execution_count": 59,
   "id": "07318981",
   "metadata": {},
   "outputs": [
    {
     "name": "stdout",
     "output_type": "stream",
     "text": [
      "scores of each fold :  [1.  1.  1.  1.  1.  1.  1.  1.  0.5 1. ]\n",
      "average score :  0.95\n"
     ]
    }
   ],
   "source": [
    "# classify using Logistic classifier\n",
    "classifier = LogisticRegression()\n",
    "l_scores = cross_val_score(classifier, x, Y, cv=10)\n",
    "avgsc_lr = np.average(l_scores)\n",
    "print ( 'scores of each fold : ', l_scores)\n",
    "print ( 'average score : ', avgsc_lr)\n",
    "\n"
   ]
  },
  {
   "cell_type": "code",
   "execution_count": 60,
   "id": "e94dd5c7",
   "metadata": {},
   "outputs": [
    {
     "name": "stdout",
     "output_type": "stream",
     "text": [
      "scores of each fold :  [1.  1.  1.  1.  1.  1.  1.  1.  0.5 1. ]\n",
      "average score :  0.95\n"
     ]
    }
   ],
   "source": [
    "# classify using random forest classifier\n",
    "classifier = RandomForestClassifier(max_depth=3, random_state=0)\n",
    "l_scores = cross_val_score(classifier, x, Y, cv=10)\n",
    "avgsc_rfc = np.average(l_scores)\n",
    "print ( 'scores of each fold : ', l_scores)\n",
    "print ( 'average score : ', avgsc_rfc)\n",
    "\n"
   ]
  },
  {
   "cell_type": "code",
   "execution_count": 61,
   "id": "36cd7c0b",
   "metadata": {},
   "outputs": [
    {
     "name": "stdout",
     "output_type": "stream",
     "text": [
      "scores of each fold :  [1.  1.  0.5 1.  0.5 1.  1.  1.  0.  1. ]\n",
      "average score :  0.8\n"
     ]
    }
   ],
   "source": [
    "# classify using Decision tree classifier\n",
    "classifier = tree.DecisionTreeClassifier()\n",
    "l_scores = cross_val_score(classifier, x, Y, cv=10)\n",
    "avgsc_dt = np.average(l_scores)\n",
    "print ( 'scores of each fold : ', l_scores)\n",
    "print ( 'average score : ', avgsc_dt)\n"
   ]
  },
  {
   "cell_type": "code",
   "execution_count": 62,
   "id": "037fc41e",
   "metadata": {},
   "outputs": [
    {
     "name": "stdout",
     "output_type": "stream",
     "text": [
      "scores of each fold :  [1.  1.  1.  1.  1.  1.  1.  1.  0.5 1. ]\n",
      "average score :  0.95\n"
     ]
    }
   ],
   "source": [
    "# classify using naive Bayesian classifier\n",
    "classifier = GaussianNB()\n",
    "l_scores = cross_val_score(classifier, x, Y, cv=10)\n",
    "avgsc_gnb = np.average(l_scores)\n",
    "print ( 'scores of each fold : ', l_scores)\n",
    "print ( 'average score : ', avgsc_gnb)\n"
   ]
  },
  {
   "cell_type": "code",
   "execution_count": 63,
   "id": "7490779c",
   "metadata": {},
   "outputs": [
    {
     "name": "stdout",
     "output_type": "stream",
     "text": [
      "scores of each fold :  [1.  1.  1.  1.  1.  1.  1.  1.  0.5 1. ]\n",
      "average score :  0.95\n"
     ]
    }
   ],
   "source": [
    "# classify using SVM classifier\n",
    "classifier = SVC(kernel='sigmoid') \n",
    "l_scores = cross_val_score(classifier, x, Y, cv=10)\n",
    "avgsc_svc_sg = np.average(l_scores)\n",
    "print ( 'scores of each fold : ', l_scores)\n",
    "print ( 'average score : ', avgsc_svc_sg)\n"
   ]
  },
  {
   "cell_type": "code",
   "execution_count": 64,
   "id": "b3f773f5",
   "metadata": {},
   "outputs": [
    {
     "name": "stdout",
     "output_type": "stream",
     "text": [
      "scores of each fold :  [1.  1.  1.  1.  1.  1.  1.  1.  0.5 1. ]\n",
      "average score :  0.95\n"
     ]
    }
   ],
   "source": [
    "# classify using SVM classifier\n",
    "classifier = SVC(kernel='rbf') \n",
    "l_scores = cross_val_score(classifier, x, Y, cv=10)\n",
    "avgsc_svc_rbf = np.average(l_scores)\n",
    "print ( 'scores of each fold : ', l_scores)\n",
    "print ( 'average score : ', avgsc_svc_rbf)\n",
    "\n"
   ]
  },
  {
   "cell_type": "code",
   "execution_count": 65,
   "id": "d3a6929b",
   "metadata": {},
   "outputs": [
    {
     "name": "stdout",
     "output_type": "stream",
     "text": [
      "scores of each fold :  [1.  1.  1.  1.  1.  1.  1.  1.  0.5 1. ]\n",
      "average score :  0.95\n"
     ]
    }
   ],
   "source": [
    "# classify using SVM classifier\n",
    "classifier = SVC(kernel='poly') \n",
    "l_scores = cross_val_score(classifier, x, Y, cv=10)\n",
    "avgsc_svc_poly = np.average(l_scores)\n",
    "print ( 'scores of each fold : ', l_scores)\n",
    "print ( 'average score : ', avgsc_svc_poly)\n"
   ]
  },
  {
   "cell_type": "code",
   "execution_count": 66,
   "id": "8845880c",
   "metadata": {},
   "outputs": [
    {
     "name": "stdout",
     "output_type": "stream",
     "text": [
      "scores of each fold :  [1.  1.  0.5 1.  1.  1.  1.  1.  0.5 1. ]\n",
      "average score :  0.9\n"
     ]
    }
   ],
   "source": [
    "# classify using SVM classifier\n",
    "classifier = SVC(kernel='linear') \n",
    "l_scores = cross_val_score(classifier, x, Y, cv=10)\n",
    "avgsc_svc_li = np.average(l_scores)\n",
    "print ( 'scores of each fold : ', l_scores)\n",
    "print ( 'average score : ', avgsc_svc_li)\n"
   ]
  },
  {
   "cell_type": "code",
   "execution_count": 67,
   "id": "9f62b740",
   "metadata": {},
   "outputs": [
    {
     "data": {
      "text/html": [
       "<div>\n",
       "<style scoped>\n",
       "    .dataframe tbody tr th:only-of-type {\n",
       "        vertical-align: middle;\n",
       "    }\n",
       "\n",
       "    .dataframe tbody tr th {\n",
       "        vertical-align: top;\n",
       "    }\n",
       "\n",
       "    .dataframe thead th {\n",
       "        text-align: right;\n",
       "    }\n",
       "</style>\n",
       "<table border=\"1\" class=\"dataframe\">\n",
       "  <thead>\n",
       "    <tr style=\"text-align: right;\">\n",
       "      <th></th>\n",
       "      <th>algorithm</th>\n",
       "      <th>accuracy</th>\n",
       "    </tr>\n",
       "  </thead>\n",
       "  <tbody>\n",
       "    <tr>\n",
       "      <th>1</th>\n",
       "      <td>KNeighborsClassifier</td>\n",
       "      <td>1.00</td>\n",
       "    </tr>\n",
       "    <tr>\n",
       "      <th>0</th>\n",
       "      <td>LogisticRegression</td>\n",
       "      <td>0.95</td>\n",
       "    </tr>\n",
       "    <tr>\n",
       "      <th>2</th>\n",
       "      <td>RandomForestClassifier</td>\n",
       "      <td>0.95</td>\n",
       "    </tr>\n",
       "    <tr>\n",
       "      <th>4</th>\n",
       "      <td>GaussianNB</td>\n",
       "      <td>0.95</td>\n",
       "    </tr>\n",
       "    <tr>\n",
       "      <th>5</th>\n",
       "      <td>SVC sigmoid</td>\n",
       "      <td>0.95</td>\n",
       "    </tr>\n",
       "    <tr>\n",
       "      <th>7</th>\n",
       "      <td>SVC rbf</td>\n",
       "      <td>0.95</td>\n",
       "    </tr>\n",
       "    <tr>\n",
       "      <th>8</th>\n",
       "      <td>SVC poly</td>\n",
       "      <td>0.95</td>\n",
       "    </tr>\n",
       "    <tr>\n",
       "      <th>6</th>\n",
       "      <td>SVC linear</td>\n",
       "      <td>0.90</td>\n",
       "    </tr>\n",
       "    <tr>\n",
       "      <th>3</th>\n",
       "      <td>DecisionTreeClassifier</td>\n",
       "      <td>0.80</td>\n",
       "    </tr>\n",
       "  </tbody>\n",
       "</table>\n",
       "</div>"
      ],
      "text/plain": [
       "                algorithm  accuracy\n",
       "1   KNeighborsClassifier       1.00\n",
       "0      LogisticRegression      0.95\n",
       "2  RandomForestClassifier      0.95\n",
       "4              GaussianNB      0.95\n",
       "5             SVC sigmoid      0.95\n",
       "7                 SVC rbf      0.95\n",
       "8                SVC poly      0.95\n",
       "6              SVC linear      0.90\n",
       "3  DecisionTreeClassifier      0.80"
      ]
     },
     "execution_count": 67,
     "metadata": {},
     "output_type": "execute_result"
    }
   ],
   "source": [
    "data_fsc = {\n",
    "    'LogisticRegression' :avgsc_lr ,\n",
    "    'KNeighborsClassifier ' :avgsc_knc ,\n",
    "    'RandomForestClassifier' :avgsc_rfc ,\n",
    "    'DecisionTreeClassifier' :avgsc_dt ,\n",
    "    'GaussianNB' :avgsc_gnb,\n",
    "    'SVC sigmoid' :avgsc_svc_sg ,\n",
    "    'SVC linear' :avgsc_svc_li,\n",
    "    'SVC rbf' :avgsc_svc_rbf,\n",
    "    'SVC poly' :avgsc_svc_poly \n",
    "}\n",
    "classification_fsc = pd.DataFrame(data_fsc.items(), columns = ['algorithm', 'accuracy'])\n",
    "classification_fsc = classification_fsc.sort_values(by=['accuracy'], ascending=False)\n",
    "classification_fsc"
   ]
  },
  {
   "cell_type": "markdown",
   "id": "aaf345de",
   "metadata": {},
   "source": [
    "### from above the best accuracy of 1.0 is from KNeighbourClassifier\n",
    "Lets the use the classifier on complete dataset to train and to predict and visualize the classification matrix.\n"
   ]
  },
  {
   "cell_type": "code",
   "execution_count": 68,
   "id": "d6d8a1fa",
   "metadata": {},
   "outputs": [
    {
     "name": "stdout",
     "output_type": "stream",
     "text": [
      "(20, 3)\n",
      "(20,)\n"
     ]
    }
   ],
   "source": [
    "print(x.shape)\n",
    "print(Y.shape)"
   ]
  },
  {
   "cell_type": "code",
   "execution_count": 69,
   "id": "7c3feb18",
   "metadata": {},
   "outputs": [
    {
     "data": {
      "text/plain": [
       "array([[ 9,  1],\n",
       "       [ 0, 10]], dtype=int64)"
      ]
     },
     "execution_count": 69,
     "metadata": {},
     "output_type": "execute_result"
    }
   ],
   "source": [
    "# train on the full data on winning model- KNeighborsClassifier, \n",
    "\n",
    "classifier = KNeighborsClassifier(n_neighbors=6)\n",
    "classifier.fit(x, Y)\n",
    "\n",
    "# test on the full data on this trained classifier.\n",
    "y_pred = classifier.predict(x)\n",
    "confusion_matrix(Y, y_pred)\n",
    "\n",
    "conf_m = confusion_matrix(Y, y_pred)\n",
    "conf_m"
   ]
  },
  {
   "cell_type": "code",
   "execution_count": 70,
   "id": "2e5a7c4f",
   "metadata": {},
   "outputs": [
    {
     "data": {
      "text/plain": [
       "<Axes: >"
      ]
     },
     "execution_count": 70,
     "metadata": {},
     "output_type": "execute_result"
    },
    {
     "data": {
      "image/png": "[encoded data removed]",
      "text/plain": [
       "<Figure size 640x480 with 2 Axes>"
      ]
     },
     "metadata": {},
     "output_type": "display_data"
    }
   ],
   "source": [
    "cm_array_df = pd.DataFrame(conf_m, index=class_names, columns=class_names)\n",
    "sns.heatmap(cm_array_df, annot=True, annot_kws={\"size\": 12}) "
   ]
  },
  {
   "cell_type": "code",
   "execution_count": 71,
   "id": "959e4e33",
   "metadata": {},
   "outputs": [
    {
     "name": "stdout",
     "output_type": "stream",
     "text": [
      "accuracy :  0.95\n"
     ]
    }
   ],
   "source": [
    "accuracy = accuracy_score(Y, y_pred)\n",
    "print('accuracy : ', accuracy)"
   ]
  },
  {
   "cell_type": "code",
   "execution_count": null,
   "id": "b93bf2e0",
   "metadata": {},
   "outputs": [],
   "source": []
  }
 ],
 "metadata": {
  "kernelspec": {
   "display_name": "Python 3 (ipykernel)",
   "language": "python",
   "name": "python3"
  },
  "language_info": {
   "codemirror_mode": {
    "name": "ipython",
    "version": 3
   },
   "file_extension": ".py",
   "mimetype": "text/x-python",
   "name": "python",
   "nbconvert_exporter": "python",
   "pygments_lexer": "ipython3",
   "version": "3.10.11"
  }
 },
 "nbformat": 4,
 "nbformat_minor": 5
}
